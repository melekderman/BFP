{
 "cells": [
  {
   "cell_type": "code",
   "execution_count": 2,
   "metadata": {},
   "outputs": [],
   "source": [
    "#!pip install --quiet glvis\n",
    "import numpy as np\n",
    "import matplotlib.pyplot as plt\n",
    "from  bfp import *\n",
    "import mfem.ser as mfem\n",
    "#from mfem.common.arg_parser import ArgParser\n",
    "from glvis import glvis, GlvisData\n",
    "import seaborn as sns\n",
    "import pandas as pd"
   ]
  },
  {
   "cell_type": "code",
   "execution_count": 3,
   "metadata": {},
   "outputs": [],
   "source": [
    "class EDependentCoefficient(mfem.PyCoefficient):\n",
    "    def __init__(self, xs_t_data, E_start, E_end):\n",
    "        super(EDependentCoefficient, self).__init__()\n",
    "        self.E_start = E_start\n",
    "        self.E_end = E_end\n",
    "        if isinstance(xs_t_data, (int, float)):\n",
    "            self.constant = True\n",
    "            self.constant_value = float(xs_t_data)\n",
    "        else:\n",
    "            self.constant = False\n",
    "            self.xs_t_data = xs_t_data\n",
    "            self.n_groups = len(xs_t_data)\n",
    "            self.E_bins = np.linspace(E_start, E_end, self.n_groups + 1)\n",
    "\n",
    "    def EvalValue(self, x):\n",
    "        if self.constant:\n",
    "            return self.constant_value\n",
    "        E = x[1]\n",
    "        for i in range(self.n_groups - 1):\n",
    "            if np.isclose(E, self.E_bins[i+1]):\n",
    "                return float(self.xs_t_data[i+1])\n",
    "            if E <= self.E_bins[i] and E > self.E_bins[i+1]:\n",
    "                return float(self.xs_t_data[i])\n",
    "        return float(self.xs_t_data[-1])\n",
    "\n",
    "class XDependentCoefficient(mfem.PyCoefficient):\n",
    "\n",
    "    def __init__(self, xs_t_data, x_start, x_end):\n",
    "        super(XDependentCoefficient, self).__init__()\n",
    "        self.x_start = x_start\n",
    "        self.x_end = x_end\n",
    "        if isinstance(xs_t_data, (int, float)):\n",
    "            self.constant = True\n",
    "            self.constant_value = float(xs_t_data)\n",
    "        else:\n",
    "            self.constant = False\n",
    "            self.xs_t_data = xs_t_data\n",
    "            self.n_groups = len(xs_t_data)\n",
    "            self.x_bins = np.linspace(x_start, x_end, self.n_groups + 1)\n",
    "\n",
    "    def EvalValue(self, x):\n",
    "        if self.constant:\n",
    "            return self.constant_value\n",
    "\n",
    "        x_val = x[0]\n",
    "        for i in range(self.n_groups - 1):\n",
    "            if np.isclose(x_val, self.x_bins[i+1]):\n",
    "                return float(self.xs_t_data[i+1])\n",
    "            if self.x_bins[i] <= x_val < self.x_bins[i+1]:\n",
    "                return float(self.xs_t_data[i])\n",
    "        return float(self.xs_t_data[-1])\n",
    "\n",
    "class MyVectorCoefficient(mfem.VectorConstantCoefficient):\n",
    "    def __init__(self, mu_coeff, S_coeff):\n",
    "        super(MyVectorCoefficient, self).__init__(2)\n",
    "        self.mu_coeff = mu_coeff \n",
    "        self.S_coeff = S_coeff\n",
    "\n",
    "    def EvalValue(self, x):\n",
    "        mu_val = self.mu_coeff.EvalValue(x) \n",
    "        S_val = self.S_coeff.EvalValue(x) \n",
    "        return [mu_val, S_val]\n",
    "    \n",
    "class InflowCoefficientSN(mfem.PyCoefficient):\n",
    "    def __init__(self, inflow, mu):\n",
    "        super(InflowCoefficientSN, self).__init__()\n",
    "        self.inflow = inflow\n",
    "        self.mu = mu\n",
    "    def EvalValue(self, x):\n",
    "        if self.mu > 0:\n",
    "            return self.inflow\n",
    "        else:\n",
    "            return 0.0\n",
    "        \n",
    "class ConstantVector(mfem.VectorPyCoefficient):\n",
    "    def __init__(self, constant):\n",
    "        super(ConstantVector, self).__init__(1)\n",
    "        self.constant = constant \n",
    "    def EvalValue(self, x):\n",
    "        return self.constant"
   ]
  },
  {
   "cell_type": "markdown",
   "metadata": {},
   "source": []
  },
  {
   "cell_type": "code",
   "execution_count": 4,
   "metadata": {},
   "outputs": [],
   "source": [
    "def test_EDependentCoefficient():\n",
    "    xs_t_data = [0,1,2,3,4]\n",
    "    coeff = EDependentCoefficient(xs_t_data, 1, 0.01)\n",
    "    print(coeff.EvalValue([0.0, 1]))\n",
    "    print(coeff.EvalValue([0.0, 0.802]))\n",
    "    print(coeff.EvalValue([0.0, 0.604]))\n",
    "    print(coeff.EvalValue([0.0, 0.406]))\n",
    "    print(coeff.EvalValue([0.0, 0.208]))\n",
    "    print(coeff.EvalValue([0.0, 0.01]))\n",
    "\n",
    "def test_EDependentCoefficient_Constant():\n",
    "    coeff = EDependentCoefficient(40, 0, 1)\n",
    "    print(coeff.EvalValue([0.0, 1]))\n",
    "    print(coeff.EvalValue([0.0, 0.802]))\n",
    "    print(coeff.EvalValue([1.0, 0.604]))\n",
    "    print(coeff.EvalValue([0.3, 0.406]))\n",
    "    print(coeff.EvalValue([0.6, 0.208]))\n",
    "    print(coeff.EvalValue([0.8, 0.01]))\n",
    "\n",
    "#print(\"Test for E dependent Coefficient\")\n",
    "#test_EDependentCoefficient()\n",
    "#print(\"Test for E dependent Constant Coefficient\")\n",
    "#test_EDependentCoefficient_Constant()\n",
    "\n",
    "def test_XDependentCoefficientt():\n",
    "    xs_t_data = [0,1,2,3,4]\n",
    "    coeff = XDependentCoefficient(xs_t_data, 0, 1)\n",
    "    print(coeff.EvalValue([0.0, 0.00]))\n",
    "    print(coeff.EvalValue([0.2, 0.00]))\n",
    "    print(coeff.EvalValue([0.4, 0.00]))\n",
    "    print(coeff.EvalValue([0.6, 0.00]))\n",
    "    print(coeff.EvalValue([0.8, 0.00]))\n",
    "    print(coeff.EvalValue([1.0, 0.00]))\n",
    "\n",
    "def test_XDependentCoefficient_Constant():\n",
    "    coeff = XDependentCoefficient(80, 0.0, 1.0)\n",
    "    print(coeff.EvalValue([0.0, 0.00]))\n",
    "    print(coeff.EvalValue([0.2, 0.00]))\n",
    "    print(coeff.EvalValue([0.4, 0.00]))\n",
    "    print(coeff.EvalValue([0.6, 0.00]))\n",
    "    print(coeff.EvalValue([0.8, 0.00]))\n",
    "    print(coeff.EvalValue([1.0, 0.00]))\n",
    "\n",
    "#print(\"Test for X dependent Coefficient\")\n",
    "#test_XDependentCoefficientt()\n",
    "#print(\"Test for X dependent Constant Coefficient\")\n",
    "#test_XDependentCoefficient_Constant()\n",
    "\n",
    "def test_MyVectorCoefficient():\n",
    "    mu_data = [5,6,7,8,9]\n",
    "    mu = XDependentCoefficient(mu_data, 0.0, 1.0)\n",
    "    S_data = [0,1,2,3,4]\n",
    "    S = EDependentCoefficient(S_data, 1.0, 0.01)\n",
    "    coeff = MyVectorCoefficient(mu, S)\n",
    "    print(coeff.EvalValue([0.0, 0.802]))\n",
    "    print(coeff.EvalValue([0.2, 0.604]))\n",
    "    print(coeff.EvalValue([0.4, 0.406]))\n",
    "    print(coeff.EvalValue([0.6, 0.208]))\n",
    "    print(coeff.EvalValue([0.8, 0.01]))\n",
    "\n",
    "#print(\"Test for Vector Coefficient\")\n",
    "#test_MyVectorCoefficient()\n"
   ]
  },
  {
   "cell_type": "code",
   "execution_count": null,
   "metadata": {},
   "outputs": [
    {
     "ename": "",
     "evalue": "",
     "output_type": "error",
     "traceback": [
      "\u001b[1;31mThe Kernel crashed while executing code in the current cell or a previous cell. \n",
      "\u001b[1;31mPlease review the code in the cell(s) to identify a possible cause of the failure. \n",
      "\u001b[1;31mClick <a href='https://aka.ms/vscodeJupyterKernelCrash'>here</a> for more info. \n",
      "\u001b[1;31mView Jupyter <a href='command:jupyter.viewOutput'>log</a> for further details."
     ]
    }
   ],
   "source": [
    "nx = 30\n",
    "nE = 50\n",
    "x_start = 0.0\n",
    "x_end = 1.0\n",
    "E_start = 1\n",
    "E_end = 0.01\n",
    "N_ang = 2\n",
    "order = 1\n",
    "inflow = 10\n",
    "\n",
    "mesh = create_2D_mesh(nx, nE, x_start, x_end, E_start, E_end)\n",
    "dim = mesh.Dimension()\n",
    "#marker = get_marker_for_mu(mesh, 1.0)\n",
    "\n",
    "# btype = 0-GaussLegendre, 1 - GaussLobatto\n",
    "fec = mfem.DG_FECollection(order, dim, btype=1)\n",
    "fes = mfem.FiniteElementSpace(mesh, fec)\n",
    "Size = fes.GetVSize()\n",
    "print(\"Number of unknowns:\", Size)\n",
    "\n",
    "mu_vals, w_vals = gauss_legendre_dirs(N_ang)\n",
    "\n",
    "#ess_bdr = mfem.intArray(mesh.bdr_attributes.Max())\n",
    "#ess_bdr.Assign(0)\n",
    "#ess_bdr[3] = 1\n",
    "\n",
    "#ess_tdof_list = mfem.intArray()\n",
    "#fes.GetEssentialTrueDofs(ess_bdr, ess_tdof_list)\n",
    "\n",
    "S_const = 0.0\n",
    "xs_t_const = 5.0\n",
    "#xs_s_const = 1.0\n",
    "S_arr = np.ones(nE) * S_const\n",
    "E_arr = np.linspace(E_start, E_end, nE+1)\n",
    "\n",
    "S_coeff = EDependentCoefficient(S_const, E_start, E_end)\n",
    "xs_t_coeff = EDependentCoefficient(xs_t_const, E_start, E_end)\n",
    "#xs_s_coeff = EDependentCoefficient(xs_s_const, E_start, E_end)\n",
    "q_coeff = EDependentCoefficient(0.0, E_start, E_end)\n",
    "#marker_l = mfem.intArray([4])\n",
    "#marker_r = mfem.intArray([2])\n",
    "\n",
    "# Solution\n",
    "psi_mu_list = []\n",
    "psi_mu = []\n",
    "for mu, w in zip(mu_vals, w_vals):\n",
    "    print(\"  Solving for mu =\", mu)\n",
    "    mu_coeff = ConstantCoefficient(mu)\n",
    "    inflow_coeff = InflowCoefficientSN(inflow, mu)\n",
    "    #marker = get_marker_for_mu(mesh, mu)\n",
    "    v_coeff = MyVectorCoefficient(mu_coeff, S_coeff)\n",
    "    print(f\"inflow: {inflow_coeff.EvalValue([inflow, mu])}\")\n",
    "    print(f\"v_coeff: {v_coeff.EvalValue([mu, 0.8])}\")\n",
    "\n",
    "    # Assemble Bilinear and Linear Forms\n",
    "    a = mfem.BilinearForm(fes)\n",
    "    a.AddDomainIntegrator(mfem.ConvectionIntegrator(v_coeff, -1.0))\n",
    "    a.AddDomainIntegrator(mfem.MassIntegrator(xs_t_coeff))\n",
    "    a.AddInteriorFaceIntegrator(mfem.TransposeIntegrator(mfem.DGTraceIntegrator(v_coeff, 1.0, -0.5)))\n",
    "    a.AddBdrFaceIntegrator(mfem.TransposeIntegrator(mfem.DGTraceIntegrator(v_coeff, 1.0, -0.5)))\n",
    "    a.Assemble()\n",
    "    A = a.SpMat()\n",
    "\n",
    "    b = mfem.LinearForm(fes)\n",
    "    b.AddDomainIntegrator(mfem.DomainLFIntegrator(q_coeff))\n",
    "    b.AddBdrFaceIntegrator(mfem.BoundaryFlowIntegrator(inflow_coeff, v_coeff, -1.0))\n",
    "    b.Assemble()\n",
    "\n",
    "    psi = mfem.GridFunction(fes)\n",
    "    psi.Assign(1.0) \n",
    "\n",
    "    prec = mfem.GSSmoother(A)\n",
    "    solver = mfem.GMRESSolver()\n",
    "    solver.SetOperator(A)\n",
    "    solver.SetPreconditioner(prec)\n",
    "    solver.SetRelTol(1e-12)\n",
    "    solver.SetAbsTol(1e-12)\n",
    "    solver.SetMaxIter(1000)\n",
    "    solver.SetKDim(30)\n",
    "    solver.SetPrintLevel(1)\n",
    "    solver.Mult(b, psi)\n",
    "    \n",
    "\n",
    "    g = glvis((mesh, psi), 600, 600)\n",
    "    g.render()\n",
    "    psi.Save(\"psi_hs_mu_{:.3f}.gf\".format(mu))\n",
    "    psi_arr = psi.GetDataArray()\n",
    "    psi_mu.append(psi_arr)\n",
    "    psi_mu_list.append((mu, w, psi))\n",
    "    \n",
    "phi = mfem.GridFunction(fes)\n",
    "phi.Assign(0.0)\n",
    "phi_list = []\n",
    "for mu, w, psi in psi_mu_list:\n",
    "    psi_w_list = psi.GetDataArray() * w\n",
    "    phi_list.append(psi_w_list)\n",
    "    phi.Add(w, psi)\n",
    "phi_list = np.array(phi_list)\n",
    "phi_list = np.sum(phi_list, axis=0)\n",
    "print(phi_list)\n",
    "\n",
    "\n",
    "phi.Save(\"phi_hs.gf\")\n",
    "    "
   ]
  },
  {
   "cell_type": "code",
   "execution_count": null,
   "metadata": {},
   "outputs": [],
   "source": []
  },
  {
   "cell_type": "code",
   "execution_count": null,
   "metadata": {},
   "outputs": [],
   "source": []
  },
  {
   "cell_type": "code",
   "execution_count": null,
   "metadata": {},
   "outputs": [
    {
     "ename": "IndexError",
     "evalue": "list index out of range",
     "output_type": "error",
     "traceback": [
      "\u001b[0;31m---------------------------------------------------------------------------\u001b[0m",
      "\u001b[0;31mIndexError\u001b[0m                                Traceback (most recent call last)",
      "Cell \u001b[0;32mIn[195], line 1\u001b[0m\n\u001b[0;32m----> 1\u001b[0m \u001b[38;5;28mprint\u001b[39m(psi_mu[\u001b[38;5;241m0\u001b[39m])\n",
      "\u001b[0;31mIndexError\u001b[0m: list index out of range"
     ]
    }
   ],
   "source": [
    "print(psi_mu[0])\n"
   ]
  },
  {
   "cell_type": "code",
   "execution_count": null,
   "metadata": {},
   "outputs": [
    {
     "ename": "IndexError",
     "evalue": "list index out of range",
     "output_type": "error",
     "traceback": [
      "\u001b[0;31m---------------------------------------------------------------------------\u001b[0m",
      "\u001b[0;31mIndexError\u001b[0m                                Traceback (most recent call last)",
      "Cell \u001b[0;32mIn[191], line 1\u001b[0m\n\u001b[0;32m----> 1\u001b[0m psi_mu[\u001b[38;5;241m1\u001b[39m]\n",
      "\u001b[0;31mIndexError\u001b[0m: list index out of range"
     ]
    }
   ],
   "source": [
    "psi_mu[1]"
   ]
  },
  {
   "cell_type": "code",
   "execution_count": null,
   "metadata": {},
   "outputs": [
    {
     "data": {
      "text/plain": [
       "[-0.5773502691896257, 0.5773502691896257]"
      ]
     },
     "execution_count": 180,
     "metadata": {},
     "output_type": "execute_result"
    }
   ],
   "source": [
    "mu_vals"
   ]
  },
  {
   "cell_type": "code",
   "execution_count": null,
   "metadata": {},
   "outputs": [
    {
     "data": {
      "text/plain": [
       "[1.0, 1.0]"
      ]
     },
     "execution_count": 161,
     "metadata": {},
     "output_type": "execute_result"
    }
   ],
   "source": [
    "w_vals"
   ]
  },
  {
   "cell_type": "code",
   "execution_count": null,
   "metadata": {},
   "outputs": [
    {
     "data": {
      "image/png": "[encoded data removed]",
      "text/plain": [
       "<Figure size 800x600 with 2 Axes>"
      ]
     },
     "metadata": {},
     "output_type": "display_data"
    }
   ],
   "source": [
    "HeatMap = HeatmapPlot(phi, mesh, fes)\n",
    "HeatMap.plot_heatmap(x_start, x_end, nx, E_start, E_end, nE)"
   ]
  },
  {
   "cell_type": "code",
   "execution_count": null,
   "metadata": {},
   "outputs": [],
   "source": []
  },
  {
   "cell_type": "code",
   "execution_count": null,
   "metadata": {},
   "outputs": [],
   "source": [
    "\n"
   ]
  },
  {
   "cell_type": "code",
   "execution_count": null,
   "metadata": {},
   "outputs": [],
   "source": []
  },
  {
   "cell_type": "code",
   "execution_count": null,
   "metadata": {},
   "outputs": [],
   "source": []
  },
  {
   "cell_type": "code",
   "execution_count": null,
   "metadata": {},
   "outputs": [
    {
     "data": {
      "text/plain": [
       "10.0"
      ]
     },
     "execution_count": 142,
     "metadata": {},
     "output_type": "execute_result"
    }
   ],
   "source": [
    "psimelek0 = 10 * np.exp(-5*0/0.577)\n",
    "psimelek0\n"
   ]
  },
  {
   "cell_type": "code",
   "execution_count": null,
   "metadata": {},
   "outputs": [
    {
     "data": {
      "text/plain": [
       "0.7429932741782513"
      ]
     },
     "execution_count": 89,
     "metadata": {},
     "output_type": "execute_result"
    }
   ],
   "source": [
    "psimelek03 = 10 * np.exp(-5*0.3/0.577)\n",
    "psimelek03\n"
   ]
  },
  {
   "cell_type": "code",
   "execution_count": null,
   "metadata": {},
   "outputs": [],
   "source": [
    "psi5 = np.array([5.12, 6.4 , 8.  , 8.  , 6.4 , 5.12, 5.12, 6.4 , 8.  , 8.  , 8.  , 6.4 , 6.4 , 5.12, 5.12])"
   ]
  },
  {
   "cell_type": "code",
   "execution_count": null,
   "metadata": {},
   "outputs": [
    {
     "data": {
      "text/plain": [
       "[5.12,\n",
       " 5.12,\n",
       " 5.12,\n",
       " 5.12,\n",
       " 5.12,\n",
       " 6.4,\n",
       " 6.4,\n",
       " 6.4,\n",
       " 6.4,\n",
       " 6.4,\n",
       " 8.0,\n",
       " 8.0,\n",
       " 8.0,\n",
       " 8.0,\n",
       " 8.0]"
      ]
     },
     "execution_count": 91,
     "metadata": {},
     "output_type": "execute_result"
    }
   ],
   "source": [
    "sorted(psi5)    "
   ]
  },
  {
   "cell_type": "code",
   "execution_count": null,
   "metadata": {},
   "outputs": [],
   "source": []
  },
  {
   "cell_type": "code",
   "execution_count": null,
   "metadata": {},
   "outputs": [],
   "source": []
  },
  {
   "cell_type": "code",
   "execution_count": null,
   "metadata": {},
   "outputs": [],
   "source": []
  },
  {
   "cell_type": "code",
   "execution_count": 7,
   "metadata": {},
   "outputs": [
    {
     "name": "stdout",
     "output_type": "stream",
     "text": [
      "File '/Users/melekderman/github/BFP/melek/mesh/usr/30x50_2D.mesh' already exists.\n"
     ]
    }
   ],
   "source": [
    "nx = 30\n",
    "nE = 50\n",
    "x_start = 0.0\n",
    "x_end = 1.0\n",
    "E_start = 1\n",
    "E_end = 0.01\n",
    "N_ang = 2\n",
    "order = 1\n",
    "inflow = 10\n",
    "mesh = create_2D_mesh(nx, nE, x_start, x_end, E_start, E_end)\n"
   ]
  },
  {
   "cell_type": "code",
   "execution_count": 8,
   "metadata": {},
   "outputs": [
    {
     "name": "stdout",
     "output_type": "stream",
     "text": [
      "Mesh Characteristics:\n",
      "Dimension          : 2\n",
      "Space dimension    : 2\n",
      "Number of vertices : 1581\n",
      "Number of edges    : 3080\n",
      "Number of elements : 1500  --  1500 Square(s)\n",
      "Number of bdr elem : 160\n",
      "Euler Number       : 1\n",
      "h_min              : 0.0256905\n",
      "h_max              : 0.0256905\n",
      "kappa_min          : 1.6835\n",
      "kappa_max          : 1.6835\n",
      "\n"
     ]
    }
   ],
   "source": [
    "mesh.PrintInfo()\n"
   ]
  },
  {
   "cell_type": "code",
   "execution_count": null,
   "metadata": {},
   "outputs": [],
   "source": []
  }
 ],
 "metadata": {
  "kernelspec": {
   "display_name": "denememfem",
   "language": "python",
   "name": "python3"
  },
  "language_info": {
   "codemirror_mode": {
    "name": "ipython",
    "version": 3
   },
   "file_extension": ".py",
   "mimetype": "text/x-python",
   "name": "python",
   "nbconvert_exporter": "python",
   "pygments_lexer": "ipython3",
   "version": "3.11.11"
  }
 },
 "nbformat": 4,
 "nbformat_minor": 2
}
