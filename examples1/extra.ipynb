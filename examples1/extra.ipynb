{
 "cells": [
  {
   "cell_type": "code",
   "execution_count": 1,
   "metadata": {},
   "outputs": [],
   "source": [
    "import mfem.ser as mfem\n",
    "import numpy as np\n",
    "from bfp import *"
   ]
  },
  {
   "cell_type": "code",
   "execution_count": 2,
   "metadata": {},
   "outputs": [],
   "source": [
    "def assemble_system(fes, mu, S_arr, xs_t_coeff, dS_dE_coeff, q_coeff, inflow_coeff, marker):\n",
    "\n",
    "    v_coeff = VelocityCoefficient2(mu, S_arr)\n",
    "\n",
    "    a = mfem.BilinearForm(fes)\n",
    "    a.AddDomainIntegrator(mfem.ConvectionIntegrator(v_coeff))\n",
    "    a.AddDomainIntegrator(mfem.MassIntegrator(xs_t_coeff))\n",
    "    a.AddDomainIntegrator(mfem.MassIntegrator(dS_dE_coeff))\n",
    "    a.AddInteriorFaceIntegrator(mfem.TransposeIntegrator(mfem.DGTraceIntegrator(v_coeff, 1.0, -0.5)))\n",
    "    a.AddBdrFaceIntegrator(mfem.TransposeIntegrator(mfem.DGTraceIntegrator(v_coeff, 1.0, -0.5)))\n",
    "    a.Assemble()\n",
    "    a.Finalize()\n",
    "    A = a.SpMat()\n",
    "\n",
    "    b = mfem.LinearForm(fes)\n",
    "    b.AddDomainIntegrator(mfem.DomainLFIntegrator(q_coeff))\n",
    "    b.AddBdrFaceIntegrator(mfem.BoundaryFlowIntegrator(inflow_coeff, v_coeff, -1.0), marker)\n",
    "    b.Assemble()\n",
    "\n",
    "    return A, b"
   ]
  },
  {
   "cell_type": "code",
   "execution_count": null,
   "metadata": {},
   "outputs": [],
   "source": [
    "def solve_single_mu(A, b, fes, solver_type=1, rel_tol=1e-12, abs_tol=1e-12, max_iter=500):\n",
    "    psi = mfem.GridFunction(fes)\n",
    "    psi.Assign(1.0)\n",
    "\n",
    "    prec = mfem.GSSmoother(A)\n",
    "    solver = mfem.GMRESSolver()\n",
    "    solver.SetOperator(A)\n",
    "    solver.SetPreconditioner(prec)\n",
    "    solver.SetRelTol(rel_tol)\n",
    "    solver.SetAbsTol(abs_tol)\n",
    "    solver.SetMaxIter(max_iter)\n",
    "    solver.SetKDim(30)\n",
    "    solver.SetPrintLevel(0)\n",
    "    solver.Mult(b, psi)\n",
    "\n",
    "    return psi, solver.GetNumIterations(), solver.GetFinalNorm()\n",
    "\n",
    "\n",
    "def solve_for_multiple_mu(fes, mu_vals, w_vals, mesh, S_coeff, xs_t_coeff, dS_dE_coeff, q_coeff, inflow_coeff):\n",
    "    psi_mu_list = []\n",
    "\n",
    "    for mu, w in zip(mu_vals, w_vals):\n",
    "        print(\"  Solving for mu =\", mu)\n",
    "        marker = get_marker_for_mu(mesh, mu)\n",
    "        A, b = assemble_system(fes, mu, S_coeff, xs_t_coeff, dS_dE_coeff, q_coeff, inflow_coeff, marker)\n",
    "        psi, iterations, final_norm = solve_single_mu(A, b, fes)\n",
    "\n",
    "        print(\"    GMRES (mu =\", mu, \"): iterations =\", iterations,\n",
    "              \"final norm =\", final_norm)\n",
    "\n",
    "        psi_mu_list.append((mu, w, psi))\n",
    "        psi.Save(\"psi_mu_{:.3f}.gf\".format(mu))\n",
    "\n",
    "    phi_new = mfem.GridFunction(fes)\n",
    "    phi_new.Assign(0.0)\n",
    "\n",
    "    for mu, w, psi in psi_mu_list:\n",
    "        phi_new.Add(w, psi)\n",
    "\n",
    "    phi_new.Save(\"phi_new.gf\")\n",
    "\n",
    "    return phi_new, psi_mu_list"
   ]
  },
  {
   "cell_type": "code",
   "execution_count": null,
   "metadata": {},
   "outputs": [
    {
     "name": "stdout",
     "output_type": "stream",
     "text": [
      "File '/Users/melekderman/github/BFP/examples1/mesh/usr/3x5_2D.mesh' already exists.\n",
      "Number of unknowns: 60\n"
     ]
    }
   ],
   "source": [
    "# Set parameters\n",
    "nx = 3\n",
    "nE = 5\n",
    "x_start = 0.0\n",
    "x_end = 0.3\n",
    "E_start = 1\n",
    "E_end = 0.01\n",
    "N_ang = 4\n",
    "order = 1\n",
    "\n",
    "mesh = create_2D_mesh(nx, nE, x_start, x_end, E_start, E_end)\n",
    "dim = mesh.Dimension()\n",
    "fec = mfem.DG_FECollection(order, dim)\n",
    "fes = mfem.FiniteElementSpace(mesh, fec)\n",
    "Size = fes.GetVSize()\n",
    "mu_vals, w_vals = gauss_legendre_dirs(N_ang)\n",
    "\n",
    "#E_arr, E_grid_arr, xs_t_arr, xs_s_arr, S_arr = read_data(50)\n",
    "S_arr = np.zeros(nE)\n",
    "E_arr = np.linspace(E_start, E_end, nE+1)\n",
    "xs_t_coeff = TotalXSCoefficient(5)\n",
    "xs_s_coeff = ScatteringXSCoefficient(0)\n",
    "S_coeff    = StoppingPowerCoefficient(0)\n",
    "dS_dE_arr = np.zeros(nE)\n",
    "dS_dE_coeff = StoppingPowerDerivativeCoefficient(0)\n",
    "q_coeff = ConstantCoefficient(100)\n",
    "inflow_coeff = ConstantCoefficient(0)\n",
    "\n",
    "solve_for_multiple_mu(fes, mu_vals, w_vals, mesh, S_arr, xs_t_coeff, dS_dE_coeff, q_coeff, inflow_coeff)\n",
    "\n",
    "HeatMap = HeatmapPlot(phi, mesh, fes)\n",
    "HeatMap.plot_heatmap(x_start, x_end, nx, E_start, E_end, nE, vmin=10, vmax=100)\n",
    "\n",
    "Scatter = ScatterPlot(phi, mesh, fes)\n",
    "Scatter.plot_scatter()\n",
    "Scatter.plot_scatter(cmap='viridis', point_size=80, vmin=30, vmax=50)"
   ]
  },
  {
   "cell_type": "code",
   "execution_count": null,
   "metadata": {},
   "outputs": [
    {
     "ename": "",
     "evalue": "",
     "output_type": "error",
     "traceback": [
      "\u001b[1;31mThe Kernel crashed while executing code in the current cell or a previous cell. \n",
      "\u001b[1;31mPlease review the code in the cell(s) to identify a possible cause of the failure. \n",
      "\u001b[1;31mClick <a href='https://aka.ms/vscodeJupyterKernelCrash'>here</a> for more info. \n",
      "\u001b[1;31mView Jupyter <a href='command:jupyter.viewOutput'>log</a> for further details."
     ]
    }
   ],
   "source": []
  },
  {
   "cell_type": "code",
   "execution_count": null,
   "metadata": {},
   "outputs": [],
   "source": []
  },
  {
   "cell_type": "code",
   "execution_count": 5,
   "metadata": {},
   "outputs": [
    {
     "name": "stdout",
     "output_type": "stream",
     "text": [
      "15\n",
      "2\n"
     ]
    }
   ],
   "source": [
    "print(mesh.GetNE())  # eleman sayısını kontrol et\n",
    "print(mesh.Dimension()) # dimension kontrolü\n"
   ]
  },
  {
   "cell_type": "code",
   "execution_count": 6,
   "metadata": {},
   "outputs": [
    {
     "name": "stdout",
     "output_type": "stream",
     "text": [
      "S_coeff 0.0\n",
      "xs_t_coeff 5.0\n",
      "dS_dE_coeff 0.0\n"
     ]
    }
   ],
   "source": [
    "point = [0.1, 0.5]\n",
    "print(\"S_coeff\", S_coeff.EvalValue(point))\n",
    "print(\"xs_t_coeff\", xs_t_coeff.EvalValue(point))\n",
    "print(\"dS_dE_coeff\", dS_dE_coeff.EvalValue(point))\n"
   ]
  },
  {
   "cell_type": "code",
   "execution_count": null,
   "metadata": {},
   "outputs": [
    {
     "ename": "AttributeError",
     "evalue": "module 'mfem.ser' has no attribute '__version__'",
     "output_type": "error",
     "traceback": [
      "\u001b[0;31m---------------------------------------------------------------------------\u001b[0m",
      "\u001b[0;31mAttributeError\u001b[0m                            Traceback (most recent call last)",
      "Cell \u001b[0;32mIn[7], line 1\u001b[0m\n\u001b[0;32m----> 1\u001b[0m \u001b[38;5;28mprint\u001b[39m(mfem\u001b[38;5;241m.\u001b[39m__version__)\n",
      "\u001b[0;31mAttributeError\u001b[0m: module 'mfem.ser' has no attribute '__version__'"
     ]
    }
   ],
   "source": [
    "\n"
   ]
  },
  {
   "cell_type": "code",
   "execution_count": null,
   "metadata": {},
   "outputs": [
    {
     "name": "stdout",
     "output_type": "stream",
     "text": [
      "File '/Users/melekderman/github/BFP/examples1/mesh/usr/3x5_2D.mesh' already exists.\n",
      "Solving for mu = 0.1\n"
     ]
    },
    {
     "ename": "NameError",
     "evalue": "name 'assembler' is not defined",
     "output_type": "error",
     "traceback": [
      "\u001b[0;31m---------------------------------------------------------------------------\u001b[0m",
      "\u001b[0;31mNameError\u001b[0m                                 Traceback (most recent call last)",
      "Cell \u001b[0;32mIn[9], line 40\u001b[0m\n\u001b[1;32m     37\u001b[0m q_coeff \u001b[38;5;241m=\u001b[39m mfem\u001b[38;5;241m.\u001b[39mConstantCoefficient(\u001b[38;5;241m100.0\u001b[39m)\n\u001b[1;32m     38\u001b[0m inflow_coeff \u001b[38;5;241m=\u001b[39m mfem\u001b[38;5;241m.\u001b[39mConstantCoefficient(\u001b[38;5;241m0.0\u001b[39m)\n\u001b[0;32m---> 40\u001b[0m phi, psi_mu_list \u001b[38;5;241m=\u001b[39m solve_all(fes, mesh, mu_vals, w_vals, S_coeff, xs_t_coeff, dS_dE_coeff, q_coeff, inflow_coeff)\n\u001b[1;32m     42\u001b[0m \u001b[38;5;28mprint\u001b[39m(\u001b[38;5;124m\"\u001b[39m\u001b[38;5;124mFinished!\u001b[39m\u001b[38;5;124m\"\u001b[39m)\n",
      "Cell \u001b[0;32mIn[9], line 6\u001b[0m, in \u001b[0;36msolve_all\u001b[0;34m(fes, mesh, mu_vals, w_vals, S_coeff, xs_t_coeff, dS_dE_coeff, q_coeff, inflow_coeff)\u001b[0m\n\u001b[1;32m      4\u001b[0m \u001b[38;5;28;01mfor\u001b[39;00m mu, w \u001b[38;5;129;01min\u001b[39;00m \u001b[38;5;28mzip\u001b[39m(mu_vals, w_vals):\n\u001b[1;32m      5\u001b[0m     \u001b[38;5;28mprint\u001b[39m(\u001b[38;5;124m\"\u001b[39m\u001b[38;5;124mSolving for mu =\u001b[39m\u001b[38;5;124m\"\u001b[39m, mu)\n\u001b[0;32m----> 6\u001b[0m     A, b \u001b[38;5;241m=\u001b[39m assembler(fes, mesh, mu, S_coeff, xs_t_coeff, dS_dE_coeff, q_coeff, inflow_coeff)\n\u001b[1;32m      7\u001b[0m     psi \u001b[38;5;241m=\u001b[39m solver(A, b, fes)\n\u001b[1;32m      8\u001b[0m     psi_mu_list\u001b[38;5;241m.\u001b[39mappend((mu, w, psi))\n",
      "\u001b[0;31mNameError\u001b[0m: name 'assembler' is not defined"
     ]
    }
   ],
   "source": [
    "def solve_all(fes, mesh, mu_vals, w_vals, S_coeff, xs_t_coeff, dS_dE_coeff, q_coeff, inflow_coeff):\n",
    "    psi_mu_list = []\n",
    "\n",
    "    for mu, w in zip(mu_vals, w_vals):\n",
    "        print(\"Solving for mu =\", mu)\n",
    "        A, b = assemble_system(fes, mesh, mu, S_coeff, xs_t_coeff, dS_dE_coeff, q_coeff, inflow_coeff)\n",
    "        psi = solve(A, b, fes)\n",
    "        psi_mu_list.append((mu, w, psi))\n",
    "        save_flux_mu(psi, mu)\n",
    "\n",
    "    phi_new = mfem.GridFunction(fes)\n",
    "    phi_new.Assign(0.0)\n",
    "\n",
    "    for mu, w, psi in psi_mu_list:\n",
    "        phi_new.Add(w, psi)\n",
    "\n",
    "    phi_new.Save(\"phi_new.gf\")\n",
    "\n",
    "    return phi_new, psi_mu_list\n",
    "\n",
    "\n",
    "\n",
    "\n",
    "\n",
    "\n",
    "# Parametreler\n",
    "nx, nE = 3, 5\n",
    "mesh = create_2D_mesh(nx, nE, 0, 0.3, 1.0, 0.01)\n",
    "fes = mfem.FiniteElementSpace(mesh, mfem.DG_FECollection(1, 2))\n",
    "\n",
    "mu_vals = [0.1, 0.5, 0.9]\n",
    "w_vals = [0.2, 0.5, 0.3]\n",
    "\n",
    "S_coeff = mfem.ConstantCoefficient(0.0)\n",
    "xs_t_coeff = mfem.ConstantCoefficient(5.0)\n",
    "dS_dE_coeff = mfem.ConstantCoefficient(0.1)\n",
    "q_coeff = mfem.ConstantCoefficient(100.0)\n",
    "inflow_coeff = mfem.ConstantCoefficient(0.0)\n",
    "\n",
    "phi, psi_mu_list = solve_all(fes, mesh, mu_vals, w_vals, S_coeff, xs_t_coeff, dS_dE_coeff, q_coeff, inflow_coeff)\n",
    "\n",
    "print(\"Finished!\")"
   ]
  },
  {
   "cell_type": "code",
   "execution_count": null,
   "metadata": {},
   "outputs": [],
   "source": []
  }
 ],
 "metadata": {
  "kernelspec": {
   "display_name": "denememfem",
   "language": "python",
   "name": "python3"
  },
  "language_info": {
   "codemirror_mode": {
    "name": "ipython",
    "version": 3
   },
   "file_extension": ".py",
   "mimetype": "text/x-python",
   "name": "python",
   "nbconvert_exporter": "python",
   "pygments_lexer": "ipython3",
   "version": "3.11.11"
  }
 },
 "nbformat": 4,
 "nbformat_minor": 2
}
