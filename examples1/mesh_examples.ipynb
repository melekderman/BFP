{
 "cells": [
  {
   "cell_type": "code",
   "execution_count": 1,
   "metadata": {},
   "outputs": [],
   "source": [
    "import mfem.ser as mfem\n",
    "import os\n",
    "from os.path import expanduser, join\n",
    "from glvis import glvis"
   ]
  },
  {
   "cell_type": "code",
   "execution_count": 2,
   "metadata": {},
   "outputs": [
    {
     "name": "stdout",
     "output_type": "stream",
     "text": [
      "Dimension: 2\n"
     ]
    },
    {
     "data": {
      "application/vnd.jupyter.widget-view+json": {
       "model_id": "34fb1af62668483bbeb54d3736e24245",
       "version_major": 2,
       "version_minor": 1
      },
      "text/plain": [
       "_GlvisWidgetCore(data_str='mesh\\nMFEM mesh v1.0\\n\\n#\\n# MFEM Geometry Types (see fem/geom.hpp):\\n#\\n# POINT   …"
      ]
     },
     "execution_count": 2,
     "metadata": {},
     "output_type": "execute_result"
    }
   ],
   "source": [
    "mesh1_file = \"../bfp/mesh/example_meshes/10x10sq.mesh\"\n",
    "mesh1_file = expanduser(join(os.getcwd(), *mesh1_file.split(\"/\")))\n",
    "mesh1 = mfem.Mesh(mesh1_file, 1, 1)\n",
    "dim = mesh1.Dimension()\n",
    "print(f'Dimension: {dim}')\n",
    "glvis(mesh1, 600, 600)\n"
   ]
  },
  {
   "cell_type": "code",
   "execution_count": 3,
   "metadata": {},
   "outputs": [
    {
     "name": "stdout",
     "output_type": "stream",
     "text": [
      "Dimension: 2\n"
     ]
    },
    {
     "data": {
      "application/vnd.jupyter.widget-view+json": {
       "model_id": "564eb7e26d3448afb1ffff1ba9f19ac4",
       "version_major": 2,
       "version_minor": 1
      },
      "text/plain": [
       "_GlvisWidgetCore(data_str='mesh\\nMFEM mesh v1.0\\n\\n#\\n# MFEM Geometry Types (see fem/geom.hpp):\\n#\\n# POINT   …"
      ]
     },
     "execution_count": 3,
     "metadata": {},
     "output_type": "execute_result"
    }
   ],
   "source": [
    "mesh2_file = \"../bfp/mesh/example_meshes/beam-quad.mesh\"\n",
    "mesh2_file = expanduser(join(os.getcwd(), *mesh2_file.split(\"/\")))\n",
    "mesh2 = mfem.Mesh(mesh2_file, 1, 1)\n",
    "dim = mesh2.Dimension()\n",
    "print(f'Dimension: {dim}')\n",
    "glvis(mesh2, 600, 600)"
   ]
  },
  {
   "cell_type": "code",
   "execution_count": 4,
   "metadata": {},
   "outputs": [
    {
     "name": "stdout",
     "output_type": "stream",
     "text": [
      "Dimension: 3Elements with wrong orientation: 30000 / 30000\n",
      " (NOT FIXED)\n"
     ]
    },
    {
     "data": {
      "application/vnd.jupyter.widget-view+json": {
       "model_id": "37a2ebb8b01b431cb2c309b35e24b9bd",
       "version_major": 2,
       "version_minor": 1
      },
      "text/plain": [
       "_GlvisWidgetCore(data_str='mesh\\nMFEM mesh v1.0\\n\\n#\\n# MFEM Geometry Types (see fem/geom.hpp):\\n#\\n# POINT   …"
      ]
     },
     "execution_count": 4,
     "metadata": {},
     "output_type": "execute_result"
    }
   ],
   "source": [
    "mesh3_file = \"../bfp/mesh/example_meshes/20x50_x_0.0-0.3_E_1.0-0.01_3D.mesh\"\n",
    "mesh3_file = expanduser(join(os.getcwd(), *mesh3_file.split(\"/\")))\n",
    "mesh3 = mfem.Mesh(mesh3_file, 1, 1)\n",
    "dim = mesh3.Dimension()\n",
    "print(f'Dimension: {dim}')\n",
    "glvis(mesh3, 600, 600)"
   ]
  },
  {
   "cell_type": "code",
   "execution_count": null,
   "metadata": {},
   "outputs": [],
   "source": []
  }
 ],
 "metadata": {
  "kernelspec": {
   "display_name": "mfem",
   "language": "python",
   "name": "python3"
  },
  "language_info": {
   "codemirror_mode": {
    "name": "ipython",
    "version": 3
   },
   "file_extension": ".py",
   "mimetype": "text/x-python",
   "name": "python",
   "nbconvert_exporter": "python",
   "pygments_lexer": "ipython3",
   "version": "3.11.9"
  }
 },
 "nbformat": 4,
 "nbformat_minor": 2
}
