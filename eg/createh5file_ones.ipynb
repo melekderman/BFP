{
 "cells": [
  {
   "cell_type": "code",
   "execution_count": 1,
   "metadata": {},
   "outputs": [
    {
     "name": "stdout",
     "output_type": "stream",
     "text": [
      "data_ones.h5 has been successfully created.\n"
     ]
    }
   ],
   "source": [
    "#!/usr/bin/env python3\n",
    "import numpy as np\n",
    "import h5py\n",
    "\n",
    "def main():\n",
    "\n",
    "    E_50 = np.linspace(1, 0.01, 51)\n",
    "\n",
    "    E_grid_50 = np.ones(50)\n",
    "\n",
    "    xs_a_50 = np.ones(50)\n",
    "    \n",
    "    xs_s_50 = np.ones(50)\n",
    "\n",
    "    S_50 = np.ones(50)\n",
    "    \n",
    "    E_100 = np.linspace(1, 0.01, 101)\n",
    "\n",
    "    E_grid_100 = np.column_stack((E_100[:-1], E_100[1:]))\n",
    "\n",
    "    xs_a_100 = np.ones(50)\n",
    "    \n",
    "    xs_s_100 = np.ones(50)\n",
    "\n",
    "    S_100 = np.ones(50)\n",
    "    \n",
    "    output_filename = \"data_ones.h5\"\n",
    "\n",
    "    with h5py.File(output_filename, 'w') as hf:\n",
    "        hf.create_dataset(\"E_50\", data=E_50)\n",
    "        hf.create_dataset(\"E_grid_50\", data=E_grid_50)\n",
    "        hf.create_dataset(\"xs_t_50\", data = (xs_a_50 + xs_s_50))\n",
    "        hf.create_dataset(\"xs_s_50\", data = xs_s_50)\n",
    "        hf.create_dataset(\"S_50\",    data = S_50)\n",
    "        hf.create_dataset(\"E_100\", data = E_100)\n",
    "        hf.create_dataset(\"E_grid_100\", data = E_grid_100)\n",
    "        hf.create_dataset(\"xs_t_100\", data = (xs_a_100 + xs_s_100))\n",
    "        hf.create_dataset(\"xs_s_100\", data = xs_s_100)\n",
    "        hf.create_dataset(\"S_100\",    data = S_100)\n",
    "\n",
    "    print(f\"{output_filename} has been successfully created.\")\n",
    "\n",
    "if __name__ == \"__main__\":\n",
    "    main()\n"
   ]
  },
  {
   "cell_type": "code",
   "execution_count": null,
   "metadata": {},
   "outputs": [],
   "source": []
  }
 ],
 "metadata": {
  "kernelspec": {
   "display_name": "mfem",
   "language": "python",
   "name": "python3"
  },
  "language_info": {
   "codemirror_mode": {
    "name": "ipython",
    "version": 3
   },
   "file_extension": ".py",
   "mimetype": "text/x-python",
   "name": "python",
   "nbconvert_exporter": "python",
   "pygments_lexer": "ipython3",
   "version": "3.11.9"
  }
 },
 "nbformat": 4,
 "nbformat_minor": 2
}
