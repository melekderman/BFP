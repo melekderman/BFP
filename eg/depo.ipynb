{
 "cells": [
  {
   "cell_type": "code",
   "execution_count": null,
   "metadata": {
    "vscode": {
     "languageId": "plaintext"
    }
   },
   "outputs": [],
   "source": [
    "fec = mfem.H1_FECollection(2, dim)\n",
    "fespace = mfem.FiniteElementSpace(mesh, fec)"
   ]
  },
  {
   "cell_type": "code",
   "execution_count": null,
   "metadata": {
    "vscode": {
     "languageId": "plaintext"
    }
   },
   "outputs": [],
   "source": [
    "data = h5py.File(\"data.h5\", \"r\")\n",
    "E_grid    = np.linspace(E_start, E_end, nE+1)\n",
    "xs_t = data[\"xs_t_50\"][:]\n",
    "xs_s = data[\"xs_s_50\"][:]\n",
    "S = data[\"S_50\"][:]\n",
    "data.close()"
   ]
  },
  {
   "cell_type": "code",
   "execution_count": null,
   "metadata": {
    "vscode": {
     "languageId": "plaintext"
    }
   },
   "outputs": [],
   "source": [
    "xs_t_coeffs = mfem.FunctionCoefficient(lambda X: xs_t(X[1]))\n",
    "xs_s_coeffs = mfem.FunctionCoefficient(lambda X: xs_s(X[1]))"
   ]
  },
  {
   "cell_type": "code",
   "execution_count": null,
   "metadata": {
    "vscode": {
     "languageId": "plaintext"
    }
   },
   "outputs": [],
   "source": [
    "mfem.FunctionCoefficient(lambda X: sigma_t_func(X[1]))"
   ]
  },
  {
   "cell_type": "code",
   "execution_count": null,
   "metadata": {
    "vscode": {
     "languageId": "plaintext"
    }
   },
   "outputs": [],
   "source": [
    "# Example usage:\n",
    "nx = 20\n",
    "nE = 50\n",
    "x_min = 0.0\n",
    "x_max = 0.3\n",
    "E_start = 1.0\n",
    "E_end = 0.01\n",
    "\n",
    "mesh = create_2D_mesh(nx, nE, x_min, x_max, E_start, E_end)\n",
    "#glvis(mesh)\n",
    "dim = mesh.Dimension()\n",
    "mesh.EnsureNodes()  "
   ]
  },
  {
   "cell_type": "code",
   "execution_count": null,
   "metadata": {
    "vscode": {
     "languageId": "plaintext"
    }
   },
   "outputs": [],
   "source": []
  }
 ],
 "metadata": {
  "language_info": {
   "name": "python"
  }
 },
 "nbformat": 4,
 "nbformat_minor": 2
}
