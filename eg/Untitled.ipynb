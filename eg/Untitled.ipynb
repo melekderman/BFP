{
 "cells": [
  {
   "cell_type": "code",
   "execution_count": 4,
   "id": "bb2b4672-2d56-4683-8988-b1903eee23b3",
   "metadata": {},
   "outputs": [],
   "source": [
    "import mfem.ser as mfem\n",
    "import mfem.ser as mfem\n",
    "from mfem.ser import Mesh\n",
    "import glvis as vis"
   ]
  },
  {
   "cell_type": "code",
   "execution_count": 5,
   "id": "888245c2-ab8e-44d4-af82-e54bd4831a51",
   "metadata": {},
   "outputs": [
    {
     "ename": "TypeError",
     "evalue": "Wrong number or type of arguments for overloaded function 'new_Mesh'.\n  Possible C/C++ prototypes are:\n    mfem::Mesh::Mesh()\n    mfem::Mesh::Mesh(mfem::Mesh const &,bool)\n    mfem::Mesh::Mesh(mfem::Mesh &&)\n    mfem::Mesh::Mesh(mfem::real_t *,int,int *,mfem::Geometry::Type,int *,int,int *,mfem::Geometry::Type,int *,int,int,int)\n    mfem::Mesh::Mesh(int,int,int,int,int)\n    mfem::Mesh::Mesh(std::string const &,int,int,bool)\n    mfem::Mesh::Mesh(std::istream &,int,int,bool)\n    mfem::Mesh::Mesh(mfem::Mesh *[],int)\n    mfem::Mesh::Mesh(int,int,int,mfem::Element::Type,bool,mfem::real_t,mfem::real_t,mfem::real_t,bool)\n    mfem::Mesh::Mesh(int,int,mfem::Element::Type,bool,mfem::real_t,mfem::real_t,bool)\n    mfem::Mesh::Mesh(int,mfem::real_t)\n    mfem::Mesh::Mesh(mfem::Mesh *,int,int)\n    mfem::Mesh::Mesh(int,int,int,char const *,bool,double,double,double,bool)\n    mfem::Mesh::Mesh(int,int,char const *,bool,double,double,bool)\n",
     "output_type": "error",
     "traceback": [
      "\u001b[31m---------------------------------------------------------------------------\u001b[39m",
      "\u001b[31mTypeError\u001b[39m                                 Traceback (most recent call last)",
      "\u001b[36mCell\u001b[39m\u001b[36m \u001b[39m\u001b[32mIn[5]\u001b[39m\u001b[32m, line 4\u001b[39m\n\u001b[32m      1\u001b[39m \u001b[38;5;28;01mimport\u001b[39;00m\u001b[38;5;250m \u001b[39m\u001b[34;01mmfem\u001b[39;00m\u001b[34;01m.\u001b[39;00m\u001b[34;01mser\u001b[39;00m\u001b[38;5;250m \u001b[39m\u001b[38;5;28;01mas\u001b[39;00m\u001b[38;5;250m \u001b[39m\u001b[34;01mmfem\u001b[39;00m\n\u001b[32m      3\u001b[39m \u001b[38;5;66;03m# Create a square mesh\u001b[39;00m\n\u001b[32m----> \u001b[39m\u001b[32m4\u001b[39m mesh = \u001b[43mmfem\u001b[49m\u001b[43m.\u001b[49m\u001b[43mMesh\u001b[49m\u001b[43m(\u001b[49m\u001b[32;43m10\u001b[39;49m\u001b[43m,\u001b[49m\u001b[43m \u001b[49m\u001b[32;43m10\u001b[39;49m\u001b[43m,\u001b[49m\u001b[43m \u001b[49m\u001b[33;43m\"\u001b[39;49m\u001b[33;43mQUADRITERAL\u001b[39;49m\u001b[33;43m\"\u001b[39;49m\u001b[43m,\u001b[49m\u001b[43m \u001b[49m\u001b[38;5;28;43;01mTrue\u001b[39;49;00m\u001b[43m,\u001b[49m\u001b[43m \u001b[49m\u001b[32;43m1\u001b[39;49m\u001b[43m,\u001b[49m\u001b[32;43m1\u001b[39;49m\u001b[43m)\u001b[49m\n\u001b[32m      6\u001b[39m \u001b[38;5;66;03m# Define the finite element function space\u001b[39;00m\n\u001b[32m      7\u001b[39m fec = mfem.H1_FECollection(\u001b[32m2\u001b[39m, mesh.Dimension())   \u001b[38;5;66;03m# H1 order=1\u001b[39;00m\n",
      "\u001b[36mFile \u001b[39m\u001b[32m~/miniforge3/envs/mfem/lib/python3.11/site-packages/mfem/_ser/mesh.py:1428\u001b[39m, in \u001b[36mMesh.__init__\u001b[39m\u001b[34m(self, *args)\u001b[39m\n\u001b[32m   1411\u001b[39m \u001b[38;5;28;01mdef\u001b[39;00m\u001b[38;5;250m \u001b[39m\u001b[34m__init__\u001b[39m(\u001b[38;5;28mself\u001b[39m, *args):\n\u001b[32m   1412\u001b[39m \u001b[38;5;250m    \u001b[39m\u001b[33mr\u001b[39m\u001b[33;03m\"\"\"\u001b[39;00m\n\u001b[32m   1413\u001b[39m \u001b[33;03m    __init__(Mesh self) -> Mesh\u001b[39;00m\n\u001b[32m   1414\u001b[39m \u001b[33;03m    __init__(Mesh self, Mesh mesh, bool copy_nodes=True) -> Mesh\u001b[39;00m\n\u001b[32m   (...)\u001b[39m\u001b[32m   1426\u001b[39m \u001b[33;03m    __init__(Mesh self, int nx, int ny, char const * type, bool generate_edges=False, double sx=1.0, double sy=1.0, bool sfc_ordering=True) -> Mesh\u001b[39;00m\n\u001b[32m   1427\u001b[39m \u001b[33;03m    \"\"\"\u001b[39;00m\n\u001b[32m-> \u001b[39m\u001b[32m1428\u001b[39m     _mesh.Mesh_swiginit(\u001b[38;5;28mself\u001b[39m, \u001b[43m_mesh\u001b[49m\u001b[43m.\u001b[49m\u001b[43mnew_Mesh\u001b[49m\u001b[43m(\u001b[49m\u001b[43m*\u001b[49m\u001b[43margs\u001b[49m\u001b[43m)\u001b[49m)\n",
      "\u001b[31mTypeError\u001b[39m: Wrong number or type of arguments for overloaded function 'new_Mesh'.\n  Possible C/C++ prototypes are:\n    mfem::Mesh::Mesh()\n    mfem::Mesh::Mesh(mfem::Mesh const &,bool)\n    mfem::Mesh::Mesh(mfem::Mesh &&)\n    mfem::Mesh::Mesh(mfem::real_t *,int,int *,mfem::Geometry::Type,int *,int,int *,mfem::Geometry::Type,int *,int,int,int)\n    mfem::Mesh::Mesh(int,int,int,int,int)\n    mfem::Mesh::Mesh(std::string const &,int,int,bool)\n    mfem::Mesh::Mesh(std::istream &,int,int,bool)\n    mfem::Mesh::Mesh(mfem::Mesh *[],int)\n    mfem::Mesh::Mesh(int,int,int,mfem::Element::Type,bool,mfem::real_t,mfem::real_t,mfem::real_t,bool)\n    mfem::Mesh::Mesh(int,int,mfem::Element::Type,bool,mfem::real_t,mfem::real_t,bool)\n    mfem::Mesh::Mesh(int,mfem::real_t)\n    mfem::Mesh::Mesh(mfem::Mesh *,int,int)\n    mfem::Mesh::Mesh(int,int,int,char const *,bool,double,double,double,bool)\n    mfem::Mesh::Mesh(int,int,char const *,bool,double,double,bool)\n"
     ]
    }
   ],
   "source": [
    "import mfem.ser as mfem\n",
    "\n",
    "# Create a square mesh\n",
    "mesh = mfem.Mesh(10, 10, \"QUADRITERAL\", True, 1,1)\n",
    "\n",
    "# Define the finite element function space\n",
    "fec = mfem.H1_FECollection(2, mesh.Dimension())   # H1 order=1\n",
    "fespace = mfem.FiniteElementSpace(mesh, fec)\n",
    "\n",
    "# Define the essential dofs\n",
    "ess_tdof_list = mfem.intArray()\n",
    "ess_bdr = mfem.intArray([1]*mesh.bdr_attributes.Size())\n",
    "fespace.GetEssentialTrueDofs(ess_bdr, ess_tdof_list)\n",
    "\n",
    "# Define constants for alpha (diffusion coefficient) and f (RHS)\n",
    "alpha = mfem.ConstantCoefficient(1.0)\n",
    "rhs = mfem.ConstantCoefficient(1.0)\n",
    "\n",
    "\"\"\"\n",
    "Note\n",
    "-----\n",
    "In order to represent a variable diffusion coefficient, you\n",
    "must use a numba-JIT compiled function. For example:\n",
    "\n",
    ">>> @mfem.jit.scalar\n",
    ">>> def alpha(x):\n",
    ">>>     return x+1.0\n",
    "\"\"\"\n",
    "\n",
    "# Define the bilinear and linear operators\n",
    "a = mfem.BilinearForm(fespace)\n",
    "a.AddDomainIntegrator(mfem.DiffusionIntegrator(alpha))\n",
    "a.Assemble()\n",
    "b = mfem.LinearForm(fespace)\n",
    "b.AddDomainIntegrator(mfem.DomainLFIntegrator(rhs))\n",
    "b.Assemble()\n",
    "\n",
    "# Initialize a gridfunction to store the solution vector\n",
    "x = mfem.GridFunction(fespace)\n",
    "x.Assign(0.0)\n",
    "\n",
    "# Form the linear system of equations (AX=B)\n",
    "A = mfem.OperatorPtr()\n",
    "B = mfem.Vector()\n",
    "X = mfem.Vector()\n",
    "a.FormLinearSystem(ess_tdof_list, x, b, A, X, B)\n",
    "print(\"Size of linear system: \" + str(A.Height()))\n",
    "\n",
    "# Solve the linear system using PCG and store the solution in x\n",
    "AA = mfem.OperatorHandle2SparseMatrix(A)\n",
    "M = mfem.GSSmoother(AA)\n",
    "mfem.PCG(AA, M, B, X, 1, 200, 1e-12, 0.0)\n",
    "a.RecoverFEMSolution(X, b, x)\n",
    "\n",
    "# Extract vertices and solution as numpy arrays\n",
    "verts = mesh.GetVertexArray()\n",
    "sol = x.GetDataArray()\n",
    "\n",
    "# Plot the solution using matplotlib\n",
    "import matplotlib.pyplot as plt\n",
    "import matplotlib.tri as tri\n",
    "\n",
    "triang = tri.Triangulation(verts[:,0], verts[:,1])\n",
    "\n",
    "fig, ax = plt.subplots()\n",
    "ax.set_aspect('equal')\n",
    "tpc = ax.tripcolor(triang, sol, shading='gouraud')\n",
    "fig.colorbar(tpc)\n",
    "plt.show()"
   ]
  },
  {
   "cell_type": "code",
   "execution_count": null,
   "id": "e69df6a8-03cb-443f-892a-2df07e2bc896",
   "metadata": {},
   "outputs": [],
   "source": []
  },
  {
   "cell_type": "code",
   "execution_count": null,
   "id": "89063e7b",
   "metadata": {},
   "outputs": [],
   "source": []
  }
 ],
 "metadata": {
  "kernelspec": {
   "display_name": "mfem",
   "language": "python",
   "name": "python3"
  },
  "language_info": {
   "codemirror_mode": {
    "name": "ipython",
    "version": 3
   },
   "file_extension": ".py",
   "mimetype": "text/x-python",
   "name": "python",
   "nbconvert_exporter": "python",
   "pygments_lexer": "ipython3",
   "version": "3.11.9"
  }
 },
 "nbformat": 4,
 "nbformat_minor": 5
}
