{
 "cells": [
  {
   "cell_type": "code",
   "execution_count": 1,
   "metadata": {},
   "outputs": [
    {
     "name": "stdout",
     "output_type": "stream",
     "text": [
      "Size of linear system: 121\n",
      "   Iteration :   0  (B r, r) = 0.00663539\n",
      "   Iteration :   1  (B r, r) = 0.00371547\n",
      "   Iteration :   2  (B r, r) = 0.000455545\n",
      "   Iteration :   3  (B r, r) = 1.36394e-05\n",
      "   Iteration :   4  (B r, r) = 4.13047e-07\n",
      "   Iteration :   5  (B r, r) = 2.24933e-08\n",
      "   Iteration :   6  (B r, r) = 6.42285e-10\n",
      "   Iteration :   7  (B r, r) = 3.89967e-11\n",
      "   Iteration :   8  (B r, r) = 5.72023e-12\n",
      "   Iteration :   9  (B r, r) = 1.02049e-13\n",
      "   Iteration :  10  (B r, r) = 3.54358e-16\n",
      "Average reduction factor = 0.21696\n"
     ]
    },
    {
     "ename": "TypeError",
     "evalue": "tuple indices must be integers or slices, not tuple",
     "output_type": "error",
     "traceback": [
      "\u001b[31m---------------------------------------------------------------------------\u001b[39m",
      "\u001b[31mTypeError\u001b[39m                                 Traceback (most recent call last)",
      "\u001b[36mCell\u001b[39m\u001b[36m \u001b[39m\u001b[32mIn[1]\u001b[39m\u001b[32m, line 63\u001b[39m\n\u001b[32m     60\u001b[39m \u001b[38;5;28;01mimport\u001b[39;00m\u001b[38;5;250m \u001b[39m\u001b[34;01mmatplotlib\u001b[39;00m\u001b[34;01m.\u001b[39;00m\u001b[34;01mpyplot\u001b[39;00m\u001b[38;5;250m \u001b[39m\u001b[38;5;28;01mas\u001b[39;00m\u001b[38;5;250m \u001b[39m\u001b[34;01mplt\u001b[39;00m\n\u001b[32m     61\u001b[39m \u001b[38;5;28;01mimport\u001b[39;00m\u001b[38;5;250m \u001b[39m\u001b[34;01mmatplotlib\u001b[39;00m\u001b[34;01m.\u001b[39;00m\u001b[34;01mtri\u001b[39;00m\u001b[38;5;250m \u001b[39m\u001b[38;5;28;01mas\u001b[39;00m\u001b[38;5;250m \u001b[39m\u001b[34;01mtri\u001b[39;00m\n\u001b[32m---> \u001b[39m\u001b[32m63\u001b[39m triang = tri.Triangulation(\u001b[43mverts\u001b[49m\u001b[43m[\u001b[49m\u001b[43m:\u001b[49m\u001b[43m,\u001b[49m\u001b[32;43m0\u001b[39;49m\u001b[43m]\u001b[49m, verts[:,\u001b[32m1\u001b[39m])\n\u001b[32m     65\u001b[39m fig, ax = plt.subplots()\n\u001b[32m     66\u001b[39m ax.set_aspect(\u001b[33m'\u001b[39m\u001b[33mequal\u001b[39m\u001b[33m'\u001b[39m)\n",
      "\u001b[31mTypeError\u001b[39m: tuple indices must be integers or slices, not tuple"
     ]
    }
   ],
   "source": [
    "import mfem.ser as mfem\n",
    "\n",
    "# Create a square mesh\n",
    "mesh = mfem.Mesh(10, 10, \"TRIANGLE\")\n",
    "\n",
    "# Define the finite element function space\n",
    "fec = mfem.H1_FECollection(1, mesh.Dimension())   # H1 order=1\n",
    "fespace = mfem.FiniteElementSpace(mesh, fec)\n",
    "\n",
    "# Define the essential dofs\n",
    "ess_tdof_list = mfem.intArray()\n",
    "ess_bdr = mfem.intArray([1]*mesh.bdr_attributes.Size())\n",
    "fespace.GetEssentialTrueDofs(ess_bdr, ess_tdof_list)\n",
    "\n",
    "# Define constants for alpha (diffusion coefficient) and f (RHS)\n",
    "alpha = mfem.ConstantCoefficient(1.0)\n",
    "rhs = mfem.ConstantCoefficient(1.0)\n",
    "\n",
    "\"\"\"\n",
    "Note\n",
    "-----\n",
    "In order to represent a variable diffusion coefficient, you\n",
    "must use a numba-JIT compiled function. For example:\n",
    "\n",
    ">>> @mfem.jit.scalar\n",
    ">>> def alpha(x):\n",
    ">>>     return x+1.0\n",
    "\"\"\"\n",
    "\n",
    "# Define the bilinear and linear operators\n",
    "a = mfem.BilinearForm(fespace)\n",
    "a.AddDomainIntegrator(mfem.DiffusionIntegrator(alpha))\n",
    "a.Assemble()\n",
    "b = mfem.LinearForm(fespace)\n",
    "b.AddDomainIntegrator(mfem.DomainLFIntegrator(rhs))\n",
    "b.Assemble()\n",
    "\n",
    "# Initialize a gridfunction to store the solution vector\n",
    "x = mfem.GridFunction(fespace)\n",
    "x.Assign(0.0)\n",
    "\n",
    "# Form the linear system of equations (AX=B)\n",
    "A = mfem.OperatorPtr()\n",
    "B = mfem.Vector()\n",
    "X = mfem.Vector()\n",
    "a.FormLinearSystem(ess_tdof_list, x, b, A, X, B)\n",
    "print(\"Size of linear system: \" + str(A.Height()))\n",
    "\n",
    "# Solve the linear system using PCG and store the solution in x\n",
    "AA = mfem.OperatorHandle2SparseMatrix(A)\n",
    "M = mfem.GSSmoother(AA)\n",
    "mfem.PCG(AA, M, B, X, 1, 200, 1e-12, 0.0)\n",
    "a.RecoverFEMSolution(X, b, x)\n",
    "\n",
    "# Extract vertices and solution as numpy arrays\n",
    "verts = mesh.GetVertexArray()\n",
    "sol = x.GetDataArray()\n",
    "\n",
    "# Plot the solution using matplotlib\n",
    "import matplotlib.pyplot as plt\n",
    "import matplotlib.tri as tri\n",
    "\n",
    "triang = tri.Triangulation(verts[:,0], verts[:,1])\n",
    "\n",
    "fig, ax = plt.subplots()\n",
    "ax.set_aspect('equal')\n",
    "tpc = ax.tripcolor(triang, sol, shading='gouraud')\n",
    "fig.colorbar(tpc)\n",
    "plt.show()"
   ]
  },
  {
   "cell_type": "code",
   "execution_count": null,
   "metadata": {},
   "outputs": [],
   "source": []
  }
 ],
 "metadata": {
  "kernelspec": {
   "display_name": "mfem",
   "language": "python",
   "name": "python3"
  },
  "language_info": {
   "codemirror_mode": {
    "name": "ipython",
    "version": 3
   },
   "file_extension": ".py",
   "mimetype": "text/x-python",
   "name": "python",
   "nbconvert_exporter": "python",
   "pygments_lexer": "ipython3",
   "version": "3.11.11"
  }
 },
 "nbformat": 4,
 "nbformat_minor": 2
}
