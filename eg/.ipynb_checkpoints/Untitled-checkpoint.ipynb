{
 "cells": [
  {
   "cell_type": "code",
   "execution_count": 1,
   "id": "bb2b4672-2d56-4683-8988-b1903eee23b3",
   "metadata": {},
   "outputs": [],
   "source": [
    "import mfem.ser as mfem\n",
    "import pyglvis as vis"
   ]
  },
  {
   "cell_type": "code",
   "execution_count": 2,
   "id": "888245c2-ab8e-44d4-af82-e54bd4831a51",
   "metadata": {},
   "outputs": [],
   "source": [
    "def xE_2d(Lx, Emax, Nx):\n",
    "    \"\"\"\n",
    "    2D Mesh (x-y plane)\n",
    "    Domain: x ∈ [0, Lx], y ∈ [0, Ly].\n",
    "    Nx, Ny: Number of elements in the x and y directions respectively.\n",
    "    \"\"\"\n",
    "    mesh = mfem.Mesh.MakeCartesian3D([Nx,NE], mfem.Element.HEXAHEDRON, Lx, E_max)\n",
    "    return mesh"
   ]
  },
  {
   "cell_type": "code",
   "execution_count": null,
   "id": "379ad51c-58ab-43be-af2d-ef080531fd36",
   "metadata": {},
   "outputs": [],
   "source": []
  }
 ],
 "metadata": {
  "kernelspec": {
   "display_name": "BFP",
   "language": "python",
   "name": "bfp"
  },
  "language_info": {
   "codemirror_mode": {
    "name": "ipython",
    "version": 3
   },
   "file_extension": ".py",
   "mimetype": "text/x-python",
   "name": "python",
   "nbconvert_exporter": "python",
   "pygments_lexer": "ipython3",
   "version": "3.11.11"
  }
 },
 "nbformat": 4,
 "nbformat_minor": 5
}
