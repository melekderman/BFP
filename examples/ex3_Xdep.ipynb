{
 "cells": [
  {
   "cell_type": "code",
   "execution_count": 1,
   "metadata": {},
   "outputs": [],
   "source": [
    "from  bfp import *"
   ]
  },
  {
   "cell_type": "code",
   "execution_count": null,
   "metadata": {},
   "outputs": [
    {
     "name": "stdout",
     "output_type": "stream",
     "text": [
      "File '/Users/melekderman/github/BFP/examples/mesh/usr/10x10_2D.mesh' already exists.\n",
      "  Solving for mu = -0.5773502691896257\n",
      "   Pass :  1   Iteration :   0  ||B r|| = 165.393\n",
      "   Pass :  1   Iteration :   1  ||B r|| = 68.516\n",
      "   Pass :  1   Iteration :   2  ||B r|| = 47.5253\n",
      "   Pass :  1   Iteration :   3  ||B r|| = 45.4443\n",
      "   Pass :  1   Iteration :   4  ||B r|| = 45.4286\n",
      "   Pass :  1   Iteration :   5  ||B r|| = 41.9701\n",
      "   Pass :  1   Iteration :   6  ||B r|| = 29.1851\n",
      "   Pass :  1   Iteration :   7  ||B r|| = 13.1899\n",
      "   Pass :  1   Iteration :   8  ||B r|| = 3.79135\n",
      "   Pass :  1   Iteration :   9  ||B r|| = 0.583706\n",
      "   Pass :  1   Iteration :  10  ||B r|| = 0.0275721\n",
      "   Pass :  1   Iteration :  11  ||B r|| = 0.000395983\n",
      "   Pass :  1   Iteration :  12  ||B r|| = 3.72065e-06\n",
      "   Pass :  1   Iteration :  13  ||B r|| = 6.09423e-08\n",
      "   Pass :  1   Iteration :  14  ||B r|| = 8.21175e-13\n"
     ]
    },
    {
     "data": {
      "application/vnd.jupyter.widget-view+json": {
       "model_id": "97a80c8e3ca94f2eae64d1b578975621",
       "version_major": 2,
       "version_minor": 1
      },
      "text/plain": [
       "_GlvisWidgetCore(data_str='solution\\nMFEM mesh v1.0\\n\\n#\\n# MFEM Geometry Types (see fem/geom.hpp):\\n#\\n# POIN…"
      ]
     },
     "metadata": {},
     "output_type": "display_data"
    },
    {
     "name": "stdout",
     "output_type": "stream",
     "text": [
      "  Solving for mu = 0.5773502691896257\n",
      "   Pass :  1   Iteration :   0  ||B r|| = 214.03\n",
      "   Pass :  1   Iteration :   1  ||B r|| = 89.652\n",
      "   Pass :  1   Iteration :   2  ||B r|| = 51.9966\n",
      "   Pass :  1   Iteration :   3  ||B r|| = 37.3148\n",
      "   Pass :  1   Iteration :   4  ||B r|| = 36.7287\n",
      "   Pass :  1   Iteration :   5  ||B r|| = 32.105\n",
      "   Pass :  1   Iteration :   6  ||B r|| = 19.5827\n",
      "   Pass :  1   Iteration :   7  ||B r|| = 4.05715\n",
      "   Pass :  1   Iteration :   8  ||B r|| = 1.12682\n",
      "   Pass :  1   Iteration :   9  ||B r|| = 0.374499\n",
      "   Pass :  1   Iteration :  10  ||B r|| = 0.0313852\n",
      "   Pass :  1   Iteration :  11  ||B r|| = 0.000696624\n",
      "   Pass :  1   Iteration :  12  ||B r|| = 2.91524e-05\n",
      "   Pass :  1   Iteration :  13  ||B r|| = 2.50937e-07\n",
      "   Pass :  1   Iteration :  14  ||B r|| = 2.56065e-13\n"
     ]
    },
    {
     "data": {
      "application/vnd.jupyter.widget-view+json": {
       "model_id": "a82b1360cc9e47dcafdbd1865e3b58f9",
       "version_major": 2,
       "version_minor": 1
      },
      "text/plain": [
       "_GlvisWidgetCore(data_str='solution\\nMFEM mesh v1.0\\n\\n#\\n# MFEM Geometry Types (see fem/geom.hpp):\\n#\\n# POIN…"
      ]
     },
     "metadata": {},
     "output_type": "display_data"
    }
   ],
   "source": [
    "# Set the problem parameters\n",
    "nx = 10\n",
    "nE = 10\n",
    "x_start = 0.0\n",
    "x_end = 1.0\n",
    "E_start = 0.0\n",
    "E_end = 1.0\n",
    "N_ang = 2\n",
    "order = 1\n",
    "a = 5\n",
    "b = 10\n",
    "alpha = 1.0\n",
    "beta = 0.5\n",
    "ref_level = 2\n",
    "\n",
    "# Problem 3: ψ = a+bx\n",
    "pn=3\n",
    "inflow = 5.0\n",
    "S_const = 0.0\n",
    "xs_t_const = 5.0\n",
    "q_const = 0.0\n",
    "\n",
    "#Set solver parameters\n",
    "iter_ = 1000\n",
    "tol = 1e-12\n",
    "p_level = 1 #this is print level, 1 -> verbose, 0 -> silent\n",
    "\n",
    "# Create mesh and set uniform refinement\n",
    "mesh = create_2D_mesh(nx, nE, x_start, x_end, E_start, E_end)\n",
    "\n",
    "# Define finite element space\n",
    "fes = FESpace(order, mesh)\n",
    "\n",
    "\n",
    "# Define boundary attributes\n",
    "dir_bdr1, dir_bdr2 = BoundaryConditions(mesh, x_min=0, x_max=0, y_min=1, y_max=1)\n",
    "\n",
    "# Set coefficients and Sn quadratures\n",
    "S_coeff = StoppingPowerCoefficientE(S_const, E_start, E_end)\n",
    "xs_t_coeff = TotalXSCoefficientE(xs_t_const, E_start, E_end)\n",
    "mu_vals, w_vals = gauss_legendre_dirs(N_ang)\n",
    "\n",
    "# Solve for Angular Flux\n",
    "psi_mu_pos_list = Solve_Psi(pn, mu_vals, w_vals, mesh, fes, xs_t_coeff, xs_t_const, inflow, S_const, alpha, beta, dir_bdr1, dir_bdr2, a, b, iter_, tol, p_level)\n",
    "# Solve for Scalar Flux\n",
    "phi = Solve_Phi(fes, psi_mu_pos_list)\n"
   ]
  },
  {
   "cell_type": "code",
   "execution_count": null,
   "metadata": {},
   "outputs": [],
   "source": []
  },
  {
   "cell_type": "code",
   "execution_count": 3,
   "metadata": {},
   "outputs": [
    {
     "data": {
      "application/vnd.jupyter.widget-view+json": {
       "model_id": "b405804a5a8b49ecb78f46a67016a111",
       "version_major": 2,
       "version_minor": 1
      },
      "text/plain": [
       "_GlvisWidgetCore(data_str='solution\\nMFEM mesh v1.0\\n\\n#\\n# MFEM Geometry Types (see fem/geom.hpp):\\n#\\n# POIN…"
      ]
     },
     "metadata": {},
     "output_type": "display_data"
    }
   ],
   "source": [
    "GlVis_2D(mesh, phi)"
   ]
  },
  {
   "cell_type": "code",
   "execution_count": 4,
   "metadata": {},
   "outputs": [
    {
     "data": {
      "application/vnd.jupyter.widget-view+json": {
       "model_id": "aa159195da7b4cdeb27e5d1e62a87e7a",
       "version_major": 2,
       "version_minor": 1
      },
      "text/plain": [
       "_GlvisWidgetCore(data_str='solution\\nMFEM mesh v1.0\\n\\n#\\n# MFEM Geometry Types (see fem/geom.hpp):\\n#\\n# POIN…"
      ]
     },
     "metadata": {},
     "output_type": "display_data"
    }
   ],
   "source": [
    "GlVis_3D(mesh, phi)"
   ]
  }
 ],
 "metadata": {
  "kernelspec": {
   "display_name": "denememfem",
   "language": "python",
   "name": "python3"
  },
  "language_info": {
   "codemirror_mode": {
    "name": "ipython",
    "version": 3
   },
   "file_extension": ".py",
   "mimetype": "text/x-python",
   "name": "python",
   "nbconvert_exporter": "python",
   "pygments_lexer": "ipython3",
   "version": "3.11.11"
  }
 },
 "nbformat": 4,
 "nbformat_minor": 2
}
