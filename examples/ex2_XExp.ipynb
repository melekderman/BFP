{
 "cells": [
  {
   "cell_type": "code",
   "execution_count": 1,
   "metadata": {},
   "outputs": [],
   "source": [
    "from  bfp import *"
   ]
  },
  {
   "cell_type": "code",
   "execution_count": 2,
   "metadata": {},
   "outputs": [
    {
     "name": "stdout",
     "output_type": "stream",
     "text": [
      "File '/Users/melekderman/github/BFP/examples/mesh/usr/10x10_2D.mesh' already exists.\n",
      "  Solving for mu = -0.5773502691896257\n",
      "   Pass :  1   Iteration :   0  ||B r|| = 71.7469\n",
      "   Pass :  1   Iteration :   1  ||B r|| = 40.8674\n",
      "   Pass :  1   Iteration :   2  ||B r|| = 23.6667\n",
      "   Pass :  1   Iteration :   3  ||B r|| = 13.8666\n",
      "   Pass :  1   Iteration :   4  ||B r|| = 9.54892\n",
      "   Pass :  1   Iteration :   5  ||B r|| = 5.72445\n",
      "   Pass :  1   Iteration :   6  ||B r|| = 3.31628\n",
      "   Pass :  1   Iteration :   7  ||B r|| = 1.56709\n",
      "   Pass :  1   Iteration :   8  ||B r|| = 0.446354\n",
      "   Pass :  1   Iteration :   9  ||B r|| = 0.0879814\n",
      "   Pass :  1   Iteration :  10  ||B r|| = 0.0042984\n",
      "   Pass :  1   Iteration :  11  ||B r|| = 5.1181e-05\n",
      "   Pass :  1   Iteration :  12  ||B r|| = 3.13946e-06\n",
      "   Pass :  1   Iteration :  13  ||B r|| = 1.83569e-08\n",
      "   Pass :  1   Iteration :  14  ||B r|| = 1.247e-13\n"
     ]
    },
    {
     "data": {
      "application/vnd.jupyter.widget-view+json": {
       "model_id": "2d2a6ceefaca471ba1e84ca2d1325359",
       "version_major": 2,
       "version_minor": 1
      },
      "text/plain": [
       "_GlvisWidgetCore(data_str='solution\\nMFEM mesh v1.0\\n\\n#\\n# MFEM Geometry Types (see fem/geom.hpp):\\n#\\n# POIN…"
      ]
     },
     "metadata": {},
     "output_type": "display_data"
    },
    {
     "name": "stdout",
     "output_type": "stream",
     "text": [
      "  Solving for mu = 0.5773502691896257\n",
      "   Pass :  1   Iteration :   0  ||B r|| = 60.4634\n",
      "   Pass :  1   Iteration :   1  ||B r|| = 33.5086\n",
      "   Pass :  1   Iteration :   2  ||B r|| = 17.3783\n",
      "   Pass :  1   Iteration :   3  ||B r|| = 10.0876\n",
      "   Pass :  1   Iteration :   4  ||B r|| = 6.34383\n",
      "   Pass :  1   Iteration :   5  ||B r|| = 3.56322\n",
      "   Pass :  1   Iteration :   6  ||B r|| = 2.09645\n",
      "   Pass :  1   Iteration :   7  ||B r|| = 0.858282\n",
      "   Pass :  1   Iteration :   8  ||B r|| = 0.227183\n",
      "   Pass :  1   Iteration :   9  ||B r|| = 0.0109794\n",
      "   Pass :  1   Iteration :  10  ||B r|| = 0.000433389\n",
      "   Pass :  1   Iteration :  11  ||B r|| = 2.94742e-05\n",
      "   Pass :  1   Iteration :  12  ||B r|| = 1.66427e-06\n",
      "   Pass :  1   Iteration :  13  ||B r|| = 1.83799e-08\n",
      "   Pass :  1   Iteration :  14  ||B r|| = 1.11278e-13\n"
     ]
    },
    {
     "data": {
      "application/vnd.jupyter.widget-view+json": {
       "model_id": "fba2c0e5606644dbb847d69727ad64d8",
       "version_major": 2,
       "version_minor": 1
      },
      "text/plain": [
       "_GlvisWidgetCore(data_str='solution\\nMFEM mesh v1.0\\n\\n#\\n# MFEM Geometry Types (see fem/geom.hpp):\\n#\\n# POIN…"
      ]
     },
     "metadata": {},
     "output_type": "display_data"
    }
   ],
   "source": [
    "# Set the problem parameters\n",
    "nx = 10\n",
    "nE = 10\n",
    "x_start = 0.0\n",
    "x_end = 1.0\n",
    "E_start = 0.0\n",
    "E_end = 1.0\n",
    "N_ang = 2\n",
    "order = 1\n",
    "a = 0\n",
    "b = 0\n",
    "alpha = 1.0\n",
    "beta = 0.5\n",
    "ref_level = 0\n",
    "\n",
    "# Problem 2: ψ(x) = Q/σₜ + ψₗ * exp(-σₜ * x / μ) \n",
    "pn = 2\n",
    "inflow = 10.0\n",
    "S_const = 0.0\n",
    "xs_t_const = 5.0\n",
    "q_const = 10.0\n",
    "\n",
    "#Set solver parameters\n",
    "iter_ = 1000\n",
    "tol = 1e-12\n",
    "p_level = 1 #this is print level, 1 -> verbose, 0 -> silent\n",
    "\n",
    "# Create mesh and set uniform refinement\n",
    "mesh = create_2D_mesh(nx, nE, x_start, x_end, E_start, E_end)\n",
    "\n",
    "# Define finite element space\n",
    "fes = FESpace(order, mesh)\n",
    "\n",
    "\n",
    "# Define boundary attributes\n",
    "dir_bdr1, dir_bdr2 = BoundaryConditions(mesh, x_min=1, x_max=1, y_min=1, y_max=1)\n",
    "\n",
    "# Set coefficients and Sn quadratures\n",
    "S_coeff = StoppingPowerCoefficientE(S_const, E_start, E_end)\n",
    "xs_t_coeff = TotalXSCoefficientE(xs_t_const, E_start, E_end)\n",
    "mu_vals, w_vals = gauss_legendre_dirs(N_ang)\n",
    "\n",
    "# Solve for Angular Flux\n",
    "psi_mu_pos_list = Solve_Psi(pn, mu_vals, w_vals, mesh, fes, xs_t_coeff, xs_t_const, inflow, S_const, \n",
    "                            alpha, beta, dir_bdr1, dir_bdr2, a, b, q_const, E_start, E_end, iter_, tol, p_level\n",
    "                            )\n",
    "# Solve for Scalar Flux\n",
    "phi = Solve_Phi(fes, psi_mu_pos_list)"
   ]
  },
  {
   "cell_type": "code",
   "execution_count": 3,
   "metadata": {},
   "outputs": [
    {
     "data": {
      "application/vnd.jupyter.widget-view+json": {
       "model_id": "b03c96e64fc94786a6e73f002e9b5552",
       "version_major": 2,
       "version_minor": 1
      },
      "text/plain": [
       "_GlvisWidgetCore(data_str='solution\\nMFEM mesh v1.0\\n\\n#\\n# MFEM Geometry Types (see fem/geom.hpp):\\n#\\n# POIN…"
      ]
     },
     "metadata": {},
     "output_type": "display_data"
    }
   ],
   "source": [
    "GlVis_2D(mesh, phi)"
   ]
  },
  {
   "cell_type": "code",
   "execution_count": 4,
   "metadata": {},
   "outputs": [
    {
     "data": {
      "application/vnd.jupyter.widget-view+json": {
       "model_id": "6dff43b61cd0453ca151615fd9005980",
       "version_major": 2,
       "version_minor": 1
      },
      "text/plain": [
       "_GlvisWidgetCore(data_str='solution\\nMFEM mesh v1.0\\n\\n#\\n# MFEM Geometry Types (see fem/geom.hpp):\\n#\\n# POIN…"
      ]
     },
     "metadata": {},
     "output_type": "display_data"
    }
   ],
   "source": [
    "GlVis_3D(mesh, phi)\n"
   ]
  }
 ],
 "metadata": {
  "kernelspec": {
   "display_name": "denememfem",
   "language": "python",
   "name": "python3"
  },
  "language_info": {
   "codemirror_mode": {
    "name": "ipython",
    "version": 3
   },
   "file_extension": ".py",
   "mimetype": "text/x-python",
   "name": "python",
   "nbconvert_exporter": "python",
   "pygments_lexer": "ipython3",
   "version": "3.11.11"
  }
 },
 "nbformat": 4,
 "nbformat_minor": 2
}
