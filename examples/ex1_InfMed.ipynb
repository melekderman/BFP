{
 "cells": [
  {
   "cell_type": "code",
   "execution_count": 1,
   "metadata": {},
   "outputs": [],
   "source": [
    "from  bfp import *"
   ]
  },
  {
   "cell_type": "code",
   "execution_count": null,
   "metadata": {},
   "outputs": [
    {
     "name": "stdout",
     "output_type": "stream",
     "text": [
      "File '/Users/melekderman/github/BFP/examples/mesh/usr/10x10_2D.mesh' was successfully created.\n",
      "  Solving for mu = -0.5773502691896257\n"
     ]
    },
    {
     "data": {
      "application/vnd.jupyter.widget-view+json": {
       "model_id": "ec9a043621de4270822babffe87b9eac",
       "version_major": 2,
       "version_minor": 1
      },
      "text/plain": [
       "_GlvisWidgetCore(data_str='solution\\nMFEM mesh v1.0\\n\\n#\\n# MFEM Geometry Types (see fem/geom.hpp):\\n#\\n# POIN…"
      ]
     },
     "metadata": {},
     "output_type": "display_data"
    },
    {
     "name": "stdout",
     "output_type": "stream",
     "text": [
      "  Solving for mu = 0.5773502691896257\n"
     ]
    },
    {
     "data": {
      "application/vnd.jupyter.widget-view+json": {
       "model_id": "0e2158e468a24640b2c4a217e92a8c0a",
       "version_major": 2,
       "version_minor": 1
      },
      "text/plain": [
       "_GlvisWidgetCore(data_str='solution\\nMFEM mesh v1.0\\n\\n#\\n# MFEM Geometry Types (see fem/geom.hpp):\\n#\\n# POIN…"
      ]
     },
     "metadata": {},
     "output_type": "display_data"
    }
   ],
   "source": [
    "# Set the problem parameters\n",
    "nx = 10\n",
    "nE = 10\n",
    "x_start = 0.0\n",
    "x_end = 1.0\n",
    "E_start = 0.0\n",
    "E_end = 1.0\n",
    "N_ang = 2\n",
    "order = 1\n",
    "a = 0\n",
    "b = 0\n",
    "alpha = 1.0\n",
    "beta = 0.5\n",
    "ref_level = 0\n",
    "\n",
    "# Problem 1: ψ = Q/σₜ, \n",
    "pn = 1\n",
    "inflow = 20.0\n",
    "S_const = 5.0\n",
    "xs_t_const = 5.0\n",
    "q_const = 100.0\n",
    "\n",
    "#Set solver parameters\n",
    "iter_ = 1000\n",
    "tol = 1e-12\n",
    "p_level = 1 #this is print level, 1 -> verbose, 0 -> silent\n",
    "\n",
    "# Create mesh and set uniform refinement\n",
    "mesh = create_2D_mesh(nx, nE, x_start, x_end, E_start, E_end)\n",
    "\n",
    "# Define finite element space\n",
    "fes = FESpace(order, mesh)\n",
    "\n",
    "\n",
    "# Define boundary attributes\n",
    "dir_bdr1, dir_bdr2 = BoundaryConditions(mesh, x_min=0, x_max=0, y_min=1, y_max=1)\n",
    "\n",
    "# Set coefficients and Sn quadratures\n",
    "S_coeff = StoppingPowerCoefficientE(S_const, E_start, E_end)\n",
    "xs_t_coeff = TotalXSCoefficientE(xs_t_const, E_start, E_end)\n",
    "mu_vals, w_vals = gauss_legendre_dirs(N_ang)\n",
    "\n",
    "# Solve for Angular Flux\n",
    "psi_mu_pos_list = Solve_Psi(pn, mu_vals, w_vals, mesh, fes, xs_t_coeff, xs_t_const, inflow, S_const, \n",
    "                            alpha, beta, dir_bdr1, dir_bdr2, a, b, q_const, E_start, E_end, iter_, tol, p_level\n",
    "                            )\n",
    "# Solve for Scalar Flux\n",
    "phi = Solve_Phi(fes, psi_mu_pos_list)"
   ]
  },
  {
   "cell_type": "code",
   "execution_count": 3,
   "metadata": {},
   "outputs": [
    {
     "data": {
      "application/vnd.jupyter.widget-view+json": {
       "model_id": "c7fb9d66d9fa4d95a25b27218b7189de",
       "version_major": 2,
       "version_minor": 1
      },
      "text/plain": [
       "_GlvisWidgetCore(data_str='solution\\nMFEM mesh v1.0\\n\\n#\\n# MFEM Geometry Types (see fem/geom.hpp):\\n#\\n# POIN…"
      ]
     },
     "metadata": {},
     "output_type": "display_data"
    }
   ],
   "source": [
    "GlVis_2D(mesh, phi)"
   ]
  },
  {
   "cell_type": "code",
   "execution_count": 4,
   "metadata": {},
   "outputs": [
    {
     "data": {
      "application/vnd.jupyter.widget-view+json": {
       "model_id": "1b06ec4cab3f4ef49d2e6ef1c79fdd80",
       "version_major": 2,
       "version_minor": 1
      },
      "text/plain": [
       "_GlvisWidgetCore(data_str='solution\\nMFEM mesh v1.0\\n\\n#\\n# MFEM Geometry Types (see fem/geom.hpp):\\n#\\n# POIN…"
      ]
     },
     "metadata": {},
     "output_type": "display_data"
    }
   ],
   "source": [
    "GlVis_3D(mesh, phi)\n"
   ]
  }
 ],
 "metadata": {
  "kernelspec": {
   "display_name": "denememfem",
   "language": "python",
   "name": "python3"
  },
  "language_info": {
   "codemirror_mode": {
    "name": "ipython",
    "version": 3
   },
   "file_extension": ".py",
   "mimetype": "text/x-python",
   "name": "python",
   "nbconvert_exporter": "python",
   "pygments_lexer": "ipython3",
   "version": "3.11.11"
  }
 },
 "nbformat": 4,
 "nbformat_minor": 2
}
