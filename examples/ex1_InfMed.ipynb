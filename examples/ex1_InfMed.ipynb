{
 "cells": [
  {
   "cell_type": "code",
   "execution_count": 5,
   "metadata": {},
   "outputs": [],
   "source": [
    "from  bfp import *"
   ]
  },
  {
   "cell_type": "code",
   "execution_count": 6,
   "metadata": {},
   "outputs": [
    {
     "name": "stdout",
     "output_type": "stream",
     "text": [
      "File '/Users/melekderman/github/BFP/examples/mesh/usr/10x10_2D.mesh' already exists.\n",
      "  Solving for mu = -0.5773502691896257\n",
      "   Pass :  1   Iteration :   0  ||B r|| = 514.502\n",
      "   Pass :  1   Iteration :   1  ||B r|| = 361.888\n",
      "   Pass :  1   Iteration :   2  ||B r|| = 270.044\n",
      "   Pass :  1   Iteration :   3  ||B r|| = 204.008\n",
      "   Pass :  1   Iteration :   4  ||B r|| = 157.418\n",
      "   Pass :  1   Iteration :   5  ||B r|| = 123.472\n",
      "   Pass :  1   Iteration :   6  ||B r|| = 96.8243\n",
      "   Pass :  1   Iteration :   7  ||B r|| = 77.1803\n",
      "   Pass :  1   Iteration :   8  ||B r|| = 58.9906\n",
      "   Pass :  1   Iteration :   9  ||B r|| = 46.6673\n",
      "   Pass :  1   Iteration :  10  ||B r|| = 35.0954\n",
      "   Pass :  1   Iteration :  11  ||B r|| = 28.2908\n",
      "   Pass :  1   Iteration :  12  ||B r|| = 23.0785\n",
      "   Pass :  1   Iteration :  13  ||B r|| = 7.94189\n",
      "   Pass :  1   Iteration :  14  ||B r|| = 1.641\n",
      "   Pass :  1   Iteration :  15  ||B r|| = 0.253739\n",
      "   Pass :  1   Iteration :  16  ||B r|| = 0.0388236\n",
      "   Pass :  1   Iteration :  17  ||B r|| = 0.00513258\n",
      "   Pass :  1   Iteration :  18  ||B r|| = 0.00110491\n",
      "   Pass :  1   Iteration :  19  ||B r|| = 0.000183644\n",
      "   Pass :  1   Iteration :  20  ||B r|| = 1.84682e-05\n",
      "   Pass :  1   Iteration :  21  ||B r|| = 3.84925e-06\n",
      "   Pass :  1   Iteration :  22  ||B r|| = 6.5042e-07\n",
      "   Pass :  1   Iteration :  23  ||B r|| = 7.70173e-08\n",
      "   Pass :  1   Iteration :  24  ||B r|| = 1.41305e-08\n",
      "   Pass :  1   Iteration :  25  ||B r|| = 1.66269e-09\n",
      "   Pass :  1   Iteration :  26  ||B r|| = 2.00403e-10\n"
     ]
    },
    {
     "data": {
      "application/vnd.jupyter.widget-view+json": {
       "model_id": "9fd26da69dcd4f22936afbffac471446",
       "version_major": 2,
       "version_minor": 1
      },
      "text/plain": [
       "_GlvisWidgetCore(data_str='solution\\nMFEM mesh v1.0\\n\\n#\\n# MFEM Geometry Types (see fem/geom.hpp):\\n#\\n# POIN…"
      ]
     },
     "metadata": {},
     "output_type": "display_data"
    },
    {
     "name": "stdout",
     "output_type": "stream",
     "text": [
      "  Solving for mu = 0.5773502691896257\n",
      "   Pass :  1   Iteration :   0  ||B r|| = 9700.08\n",
      "   Pass :  1   Iteration :   1  ||B r|| = 1033.87\n",
      "   Pass :  1   Iteration :   2  ||B r|| = 397.902\n",
      "   Pass :  1   Iteration :   3  ||B r|| = 251.599\n",
      "   Pass :  1   Iteration :   4  ||B r|| = 174.477\n",
      "   Pass :  1   Iteration :   5  ||B r|| = 124.737\n",
      "   Pass :  1   Iteration :   6  ||B r|| = 95.8631\n",
      "   Pass :  1   Iteration :   7  ||B r|| = 66.7334\n",
      "   Pass :  1   Iteration :   8  ||B r|| = 49.2911\n",
      "   Pass :  1   Iteration :   9  ||B r|| = 32.4781\n",
      "   Pass :  1   Iteration :  10  ||B r|| = 25.253\n",
      "   Pass :  1   Iteration :  11  ||B r|| = 20.5967\n",
      "   Pass :  1   Iteration :  12  ||B r|| = 12.865\n",
      "   Pass :  1   Iteration :  13  ||B r|| = 2.03546\n",
      "   Pass :  1   Iteration :  14  ||B r|| = 0.231624\n",
      "   Pass :  1   Iteration :  15  ||B r|| = 0.0343645\n",
      "   Pass :  1   Iteration :  16  ||B r|| = 0.0116916\n",
      "   Pass :  1   Iteration :  17  ||B r|| = 0.00149328\n",
      "   Pass :  1   Iteration :  18  ||B r|| = 0.000310188\n",
      "   Pass :  1   Iteration :  19  ||B r|| = 4.31872e-05\n",
      "   Pass :  1   Iteration :  20  ||B r|| = 3.82724e-06\n",
      "   Pass :  1   Iteration :  21  ||B r|| = 7.22931e-07\n",
      "   Pass :  1   Iteration :  22  ||B r|| = 1.16391e-07\n",
      "   Pass :  1   Iteration :  23  ||B r|| = 1.14539e-08\n",
      "   Pass :  1   Iteration :  24  ||B r|| = 1.12849e-09\n"
     ]
    },
    {
     "data": {
      "application/vnd.jupyter.widget-view+json": {
       "model_id": "d996f85cc4034f719c7d33d1534caf59",
       "version_major": 2,
       "version_minor": 1
      },
      "text/plain": [
       "_GlvisWidgetCore(data_str='solution\\nMFEM mesh v1.0\\n\\n#\\n# MFEM Geometry Types (see fem/geom.hpp):\\n#\\n# POIN…"
      ]
     },
     "metadata": {},
     "output_type": "display_data"
    }
   ],
   "source": [
    "# Set the problem parameters\n",
    "nx = 10\n",
    "nE = 10\n",
    "x_start = 0.0\n",
    "x_end = 1.0\n",
    "E_start = 0.0\n",
    "E_end = 1.0\n",
    "N_ang = 2\n",
    "order = 1\n",
    "a = 0\n",
    "b = 0\n",
    "alpha = 1.0\n",
    "beta = 0.5\n",
    "ref_level = 0\n",
    "\n",
    "# Problem 1: ψ = Q/σₜ, \n",
    "pn = 1\n",
    "inflow = 20.0\n",
    "S_const = 5.0\n",
    "xs_t_const = 5.0\n",
    "q_const = 100.0\n",
    "\n",
    "#Set solver parameters\n",
    "iter_ = 1000\n",
    "tol = 1e-12\n",
    "p_level = 1 #this is print level, 1 -> verbose, 0 -> silent\n",
    "\n",
    "# Create mesh and set uniform refinement\n",
    "mesh = create_2D_mesh(nx, nE, x_start, x_end, E_start, E_end)\n",
    "\n",
    "# Define finite element space\n",
    "fes = FESpace(order, mesh)\n",
    "\n",
    "\n",
    "# Define boundary attributes\n",
    "dir_bdr1, dir_bdr2 = BoundaryConditions(mesh, x_min=0, x_max=0, y_min=1, y_max=1)\n",
    "\n",
    "# Set coefficients and Sn quadratures\n",
    "S_coeff = StoppingPowerCoefficientE(S_const, E_start, E_end)\n",
    "xs_t_coeff = TotalXSCoefficientE(xs_t_const, E_start, E_end)\n",
    "mu_vals, w_vals = gauss_legendre_dirs(N_ang)\n",
    "\n",
    "# Solve for Angular Flux\n",
    "psi_mu_pos_list = Solve_Psi(pn, mu_vals, w_vals, mesh, fes, xs_t_coeff, xs_t_const, inflow, S_const, \n",
    "                            alpha, beta, dir_bdr1, dir_bdr2, a, b, q_const, E_start, E_end, iter_, tol, p_level\n",
    "                            )\n",
    "# Solve for Scalar Flux\n",
    "phi = Solve_Phi(fes, psi_mu_pos_list)"
   ]
  },
  {
   "cell_type": "code",
   "execution_count": 7,
   "metadata": {},
   "outputs": [
    {
     "data": {
      "application/vnd.jupyter.widget-view+json": {
       "model_id": "3d9a0276ddd54849ae7876295472eb0e",
       "version_major": 2,
       "version_minor": 1
      },
      "text/plain": [
       "_GlvisWidgetCore(data_str='solution\\nMFEM mesh v1.0\\n\\n#\\n# MFEM Geometry Types (see fem/geom.hpp):\\n#\\n# POIN…"
      ]
     },
     "metadata": {},
     "output_type": "display_data"
    }
   ],
   "source": [
    "GlVis_2D(mesh, phi)"
   ]
  },
  {
   "cell_type": "code",
   "execution_count": 8,
   "metadata": {},
   "outputs": [
    {
     "data": {
      "application/vnd.jupyter.widget-view+json": {
       "model_id": "3e8474d612274259b29b0e6b6d7aa4c2",
       "version_major": 2,
       "version_minor": 1
      },
      "text/plain": [
       "_GlvisWidgetCore(data_str='solution\\nMFEM mesh v1.0\\n\\n#\\n# MFEM Geometry Types (see fem/geom.hpp):\\n#\\n# POIN…"
      ]
     },
     "metadata": {},
     "output_type": "display_data"
    }
   ],
   "source": [
    "GlVis_3D(mesh, phi)\n"
   ]
  }
 ],
 "metadata": {
  "kernelspec": {
   "display_name": "denememfem",
   "language": "python",
   "name": "python3"
  },
  "language_info": {
   "codemirror_mode": {
    "name": "ipython",
    "version": 3
   },
   "file_extension": ".py",
   "mimetype": "text/x-python",
   "name": "python",
   "nbconvert_exporter": "python",
   "pygments_lexer": "ipython3",
   "version": "3.11.11"
  }
 },
 "nbformat": 4,
 "nbformat_minor": 2
}
