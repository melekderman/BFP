{
 "cells": [
  {
   "cell_type": "code",
   "execution_count": 8,
   "metadata": {},
   "outputs": [],
   "source": [
    "from  bfp import *"
   ]
  },
  {
   "cell_type": "code",
   "execution_count": 9,
   "metadata": {},
   "outputs": [
    {
     "name": "stdout",
     "output_type": "stream",
     "text": [
      "File '/Users/melekderman/github/BFP/final/mesh/usr/10x10_2D.mesh' already exists.\n",
      "  Solving for mu = -0.5773502691896257\n"
     ]
    },
    {
     "data": {
      "application/vnd.jupyter.widget-view+json": {
       "model_id": "7b5cd85745f1469f94273e25a031739c",
       "version_major": 2,
       "version_minor": 1
      },
      "text/plain": [
       "_GlvisWidgetCore(data_str='solution\\nMFEM mesh v1.0\\n\\n#\\n# MFEM Geometry Types (see fem/geom.hpp):\\n#\\n# POIN…"
      ]
     },
     "metadata": {},
     "output_type": "display_data"
    },
    {
     "name": "stdout",
     "output_type": "stream",
     "text": [
      "  Solving for mu = 0.5773502691896257\n"
     ]
    },
    {
     "data": {
      "application/vnd.jupyter.widget-view+json": {
       "model_id": "79545c3651ac4c9c9532896b021240bb",
       "version_major": 2,
       "version_minor": 1
      },
      "text/plain": [
       "_GlvisWidgetCore(data_str='solution\\nMFEM mesh v1.0\\n\\n#\\n# MFEM Geometry Types (see fem/geom.hpp):\\n#\\n# POIN…"
      ]
     },
     "metadata": {},
     "output_type": "display_data"
    }
   ],
   "source": [
    "# Set the problem parameters\n",
    "nx = 10\n",
    "nE = 10\n",
    "x_start = 0.0\n",
    "x_end = 1.0\n",
    "E_start = 0.0\n",
    "E_end = 1.0\n",
    "N_ang = 2\n",
    "order = 1\n",
    "a = 0\n",
    "b = 0\n",
    "alpha = 1.0\n",
    "beta = 0.5\n",
    "ref_level = 0\n",
    "\n",
    "# Problem 1: ψ = Q/σₜ, \n",
    "pn = 1\n",
    "inflow = 20.0\n",
    "S_const = 5.0\n",
    "xs_t_const = 5.0\n",
    "q_const = 100.0\n",
    "\n",
    "#Set solver parameters\n",
    "iter_ = 1000\n",
    "tol = 1e-12\n",
    "p_level = 0 #this is print level, 1 -> verbose, 0 -> silent\n",
    "\n",
    "# Create mesh and set uniform refinement\n",
    "mesh = create_2D_mesh(nx, nE, x_start, x_end, E_start, E_end)\n",
    "\n",
    "# Define finite element space\n",
    "fes = FESpace(order, mesh)\n",
    "\n",
    "\n",
    "# Define boundary attributes\n",
    "dir_bdr1, dir_bdr2 = BoundaryConditions(mesh, x_min=0, x_max=0, y_min=1, y_max=1)\n",
    "\n",
    "# Set coefficients and Sn quadratures\n",
    "S_coeff = StoppingPowerCoefficientE(S_const, E_start, E_end)\n",
    "xs_t_coeff = TotalXSCoefficientE(xs_t_const, E_start, E_end)\n",
    "mu_vals, w_vals = gauss_legendre_dirs(N_ang)\n",
    "\n",
    "# Solution\n",
    "psi_mu_pos_list = Solve_Psi(pn, mu_vals, w_vals, mesh, fes, xs_t_coeff, xs_t_const, inflow, S_const, \n",
    "                            alpha, beta, dir_bdr1, dir_bdr2, a, b, q_const, E_start, E_end, iter_, tol, p_level\n",
    "                            )\n",
    "\n",
    "phi = Solve_Phi(fes, psi_mu_pos_list)"
   ]
  },
  {
   "cell_type": "code",
   "execution_count": 10,
   "metadata": {},
   "outputs": [
    {
     "data": {
      "application/vnd.jupyter.widget-view+json": {
       "model_id": "11307975120b482b9ca03019d849ac26",
       "version_major": 2,
       "version_minor": 1
      },
      "text/plain": [
       "_GlvisWidgetCore(data_str='solution\\nMFEM mesh v1.0\\n\\n#\\n# MFEM Geometry Types (see fem/geom.hpp):\\n#\\n# POIN…"
      ]
     },
     "metadata": {},
     "output_type": "display_data"
    }
   ],
   "source": [
    "GlVis_2D(mesh, phi)"
   ]
  },
  {
   "cell_type": "code",
   "execution_count": 11,
   "metadata": {},
   "outputs": [
    {
     "data": {
      "application/vnd.jupyter.widget-view+json": {
       "model_id": "ce1c63839a734deba4b36485d4d38f08",
       "version_major": 2,
       "version_minor": 1
      },
      "text/plain": [
       "_GlvisWidgetCore(data_str='solution\\nMFEM mesh v1.0\\n\\n#\\n# MFEM Geometry Types (see fem/geom.hpp):\\n#\\n# POIN…"
      ]
     },
     "metadata": {},
     "output_type": "display_data"
    }
   ],
   "source": [
    "GlVis_3D(mesh, phi)\n"
   ]
  },
  {
   "cell_type": "code",
   "execution_count": null,
   "metadata": {},
   "outputs": [],
   "source": []
  },
  {
   "cell_type": "code",
   "execution_count": null,
   "metadata": {},
   "outputs": [],
   "source": []
  },
  {
   "cell_type": "code",
   "execution_count": null,
   "metadata": {},
   "outputs": [],
   "source": []
  }
 ],
 "metadata": {
  "kernelspec": {
   "display_name": "denememfem",
   "language": "python",
   "name": "python3"
  },
  "language_info": {
   "codemirror_mode": {
    "name": "ipython",
    "version": 3
   },
   "file_extension": ".py",
   "mimetype": "text/x-python",
   "name": "python",
   "nbconvert_exporter": "python",
   "pygments_lexer": "ipython3",
   "version": "3.11.11"
  }
 },
 "nbformat": 4,
 "nbformat_minor": 2
}
