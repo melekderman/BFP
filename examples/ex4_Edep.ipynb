{
 "cells": [
  {
   "cell_type": "code",
   "execution_count": 1,
   "metadata": {},
   "outputs": [],
   "source": [
    "from bfp import *"
   ]
  },
  {
   "cell_type": "code",
   "execution_count": 2,
   "metadata": {},
   "outputs": [
    {
     "name": "stdout",
     "output_type": "stream",
     "text": [
      "File '/Users/melekderman/github/BFP/examples/mesh/usr/10x10_2D.mesh' already exists.\n",
      "  Solving for mu = -0.5773502691896257\n",
      "   Pass :  1   Iteration :   0  ||B r|| = 165.665\n",
      "   Pass :  1   Iteration :   1  ||B r|| = 103.697\n",
      "   Pass :  1   Iteration :   2  ||B r|| = 91.807\n",
      "   Pass :  1   Iteration :   3  ||B r|| = 78.6146\n",
      "   Pass :  1   Iteration :   4  ||B r|| = 63.2245\n",
      "   Pass :  1   Iteration :   5  ||B r|| = 50.6396\n",
      "   Pass :  1   Iteration :   6  ||B r|| = 35.9202\n",
      "   Pass :  1   Iteration :   7  ||B r|| = 28.0167\n",
      "   Pass :  1   Iteration :   8  ||B r|| = 20.9958\n",
      "   Pass :  1   Iteration :   9  ||B r|| = 13.397\n",
      "   Pass :  1   Iteration :  10  ||B r|| = 9.3181\n",
      "   Pass :  1   Iteration :  11  ||B r|| = 7.40016\n",
      "   Pass :  1   Iteration :  12  ||B r|| = 4.53822\n",
      "   Pass :  1   Iteration :  13  ||B r|| = 2.26212\n",
      "   Pass :  1   Iteration :  14  ||B r|| = 0.971919\n",
      "   Pass :  1   Iteration :  15  ||B r|| = 0.343566\n",
      "   Pass :  1   Iteration :  16  ||B r|| = 0.0682524\n",
      "   Pass :  1   Iteration :  17  ||B r|| = 0.0152848\n",
      "   Pass :  1   Iteration :  18  ||B r|| = 0.00417357\n",
      "   Pass :  1   Iteration :  19  ||B r|| = 0.000817248\n",
      "   Pass :  1   Iteration :  20  ||B r|| = 0.000133459\n",
      "   Pass :  1   Iteration :  21  ||B r|| = 2.65098e-05\n",
      "   Pass :  1   Iteration :  22  ||B r|| = 5.36633e-06\n",
      "   Pass :  1   Iteration :  23  ||B r|| = 1.22308e-06\n",
      "   Pass :  1   Iteration :  24  ||B r|| = 1.73436e-07\n",
      "   Pass :  1   Iteration :  25  ||B r|| = 3.66883e-08\n",
      "   Pass :  1   Iteration :  26  ||B r|| = 5.8938e-09\n",
      "   Pass :  1   Iteration :  27  ||B r|| = 7.66374e-10\n",
      "   Pass :  1   Iteration :  28  ||B r|| = 1.12614e-10\n"
     ]
    },
    {
     "data": {
      "application/vnd.jupyter.widget-view+json": {
       "model_id": "a0a3c1742f7e400995423807a7557ffa",
       "version_major": 2,
       "version_minor": 1
      },
      "text/plain": [
       "_GlvisWidgetCore(data_str='solution\\nMFEM mesh v1.0\\n\\n#\\n# MFEM Geometry Types (see fem/geom.hpp):\\n#\\n# POIN…"
      ]
     },
     "metadata": {},
     "output_type": "display_data"
    },
    {
     "name": "stdout",
     "output_type": "stream",
     "text": [
      "  Solving for mu = 0.5773502691896257\n",
      "   Pass :  1   Iteration :   0  ||B r|| = 21318.7\n",
      "   Pass :  1   Iteration :   1  ||B r|| = 1624.73\n",
      "   Pass :  1   Iteration :   2  ||B r|| = 274.088\n",
      "   Pass :  1   Iteration :   3  ||B r|| = 106.406\n",
      "   Pass :  1   Iteration :   4  ||B r|| = 65.3383\n",
      "   Pass :  1   Iteration :   5  ||B r|| = 39.5079\n",
      "   Pass :  1   Iteration :   6  ||B r|| = 27.3208\n",
      "   Pass :  1   Iteration :   7  ||B r|| = 19.492\n",
      "   Pass :  1   Iteration :   8  ||B r|| = 10.4111\n",
      "   Pass :  1   Iteration :   9  ||B r|| = 6.30502\n",
      "   Pass :  1   Iteration :  10  ||B r|| = 4.55075\n",
      "   Pass :  1   Iteration :  11  ||B r|| = 3.03797\n",
      "   Pass :  1   Iteration :  12  ||B r|| = 1.16881\n",
      "   Pass :  1   Iteration :  13  ||B r|| = 0.511022\n",
      "   Pass :  1   Iteration :  14  ||B r|| = 0.184489\n",
      "   Pass :  1   Iteration :  15  ||B r|| = 0.0416473\n",
      "   Pass :  1   Iteration :  16  ||B r|| = 0.00719284\n",
      "   Pass :  1   Iteration :  17  ||B r|| = 0.00179393\n",
      "   Pass :  1   Iteration :  18  ||B r|| = 0.000195125\n",
      "   Pass :  1   Iteration :  19  ||B r|| = 3.21064e-05\n",
      "   Pass :  1   Iteration :  20  ||B r|| = 1.09724e-05\n",
      "   Pass :  1   Iteration :  21  ||B r|| = 3.0192e-06\n",
      "   Pass :  1   Iteration :  22  ||B r|| = 4.61965e-07\n",
      "   Pass :  1   Iteration :  23  ||B r|| = 1.01101e-07\n",
      "   Pass :  1   Iteration :  24  ||B r|| = 1.1101e-08\n"
     ]
    },
    {
     "data": {
      "application/vnd.jupyter.widget-view+json": {
       "model_id": "4495d0a733d844c783eb172906bdac6a",
       "version_major": 2,
       "version_minor": 1
      },
      "text/plain": [
       "_GlvisWidgetCore(data_str='solution\\nMFEM mesh v1.0\\n\\n#\\n# MFEM Geometry Types (see fem/geom.hpp):\\n#\\n# POIN…"
      ]
     },
     "metadata": {},
     "output_type": "display_data"
    }
   ],
   "source": [
    "# Set the problem parameters\n",
    "nx = 10\n",
    "nE = 10\n",
    "x_start = 0.0\n",
    "x_end = 1.0\n",
    "E_start = 0.0\n",
    "E_end = 1.0\n",
    "N_ang = 2\n",
    "order = 1\n",
    "a = 5\n",
    "b = 10\n",
    "alpha = 1.0\n",
    "beta = 0.5\n",
    "ref_level = 2\n",
    "\n",
    "# Problem 4: ψ = a+bE\n",
    "pn=4\n",
    "inflow = 5.0\n",
    "S_const = 2.0\n",
    "xs_t_const = 5.0\n",
    "q_const = 0.0\n",
    "\n",
    "#Set solver parameters\n",
    "iter_ = 1000\n",
    "tol = 1e-12\n",
    "p_level = 0 #this is print level, 1 -> verbose, 0 -> silent\n",
    "\n",
    "# Create mesh and set uniform refinement\n",
    "mesh = create_2D_mesh(nx, nE, x_start, x_end, E_start, E_end)\n",
    "\n",
    "# Define finite element space\n",
    "fes = FESpace(order, mesh)\n",
    "\n",
    "\n",
    "# Define boundary attributes\n",
    "dir_bdr1, dir_bdr2 = BoundaryConditions(mesh, x_min=0, x_max=0, y_min=1, y_max=1)\n",
    "\n",
    "# Set coefficients and Sn quadratures\n",
    "S_coeff = StoppingPowerCoefficientE(S_const, E_start, E_end)\n",
    "xs_t_coeff = TotalXSCoefficientE(xs_t_const, E_start, E_end)\n",
    "mu_vals, w_vals = gauss_legendre_dirs(N_ang)\n",
    "\n",
    "# Solution\n",
    "psi_mu_pos_list = Solve_Psi(pn, mu_vals, w_vals, mesh, fes, xs_t_coeff, xs_t_const, inflow, S_const, alpha, beta, dir_bdr1, dir_bdr2, a, b, iter_, tol, p_level)\n",
    "phi = Solve_Phi(fes, psi_mu_pos_list)"
   ]
  },
  {
   "cell_type": "code",
   "execution_count": 3,
   "metadata": {},
   "outputs": [
    {
     "data": {
      "application/vnd.jupyter.widget-view+json": {
       "model_id": "942272d29366477593d0505295223256",
       "version_major": 2,
       "version_minor": 1
      },
      "text/plain": [
       "_GlvisWidgetCore(data_str='solution\\nMFEM mesh v1.0\\n\\n#\\n# MFEM Geometry Types (see fem/geom.hpp):\\n#\\n# POIN…"
      ]
     },
     "metadata": {},
     "output_type": "display_data"
    }
   ],
   "source": [
    "GlVis_2D(mesh, phi)"
   ]
  },
  {
   "cell_type": "code",
   "execution_count": 4,
   "metadata": {},
   "outputs": [
    {
     "data": {
      "application/vnd.jupyter.widget-view+json": {
       "model_id": "42b726120d524b1a971b8736b9b1cf6c",
       "version_major": 2,
       "version_minor": 1
      },
      "text/plain": [
       "_GlvisWidgetCore(data_str='solution\\nMFEM mesh v1.0\\n\\n#\\n# MFEM Geometry Types (see fem/geom.hpp):\\n#\\n# POIN…"
      ]
     },
     "metadata": {},
     "output_type": "display_data"
    }
   ],
   "source": [
    "GlVis_3D(mesh, phi)"
   ]
  }
 ],
 "metadata": {
  "kernelspec": {
   "display_name": "denememfem",
   "language": "python",
   "name": "python3"
  },
  "language_info": {
   "codemirror_mode": {
    "name": "ipython",
    "version": 3
   },
   "file_extension": ".py",
   "mimetype": "text/x-python",
   "name": "python",
   "nbconvert_exporter": "python",
   "pygments_lexer": "ipython3",
   "version": "3.11.11"
  }
 },
 "nbformat": 4,
 "nbformat_minor": 2
}
