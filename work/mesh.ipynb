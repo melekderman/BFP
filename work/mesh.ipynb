{
 "cells": [
  {
   "cell_type": "code",
   "execution_count": 2,
   "metadata": {},
   "outputs": [],
   "source": [
    "import mfem.ser as mfem\n",
    "from bfp import *"
   ]
  },
  {
   "cell_type": "code",
   "execution_count": 20,
   "metadata": {},
   "outputs": [
    {
     "name": "stdout",
     "output_type": "stream",
     "text": [
      "File '/Users/melekderman/github/BFP/work/mesh/usr/10x10_2D.mesh' was successfully created.\n",
      "File '/Users/melekderman/github/BFP/work/mesh/usr/10x10_2D.mesh' already exists.\n"
     ]
    }
   ],
   "source": [
    "mesh_10x10 = create_2D_mesh(10,10,0,1,0,1)\n",
    "mesh_E = create_2D_mesh(10,10,0,1,0.1,1)"
   ]
  },
  {
   "cell_type": "code",
   "execution_count": 16,
   "metadata": {},
   "outputs": [],
   "source": [
    "mesh2 = mfem.Mesh(10, 10, \"QUADRILATERAL\", False, 1.0, 1.0)\n",
    "mesh2.Save('mesh2.mesh')"
   ]
  },
  {
   "cell_type": "code",
   "execution_count": 18,
   "metadata": {},
   "outputs": [],
   "source": [
    "mesh3 = mfem.Mesh.MakeCartesian2D(10,10,mfem.Element.QUADRILATERAL, True, 1.0,1.0)\n",
    "mesh3.Save('mesh3.mesh')"
   ]
  },
  {
   "cell_type": "code",
   "execution_count": null,
   "metadata": {},
   "outputs": [],
   "source": []
  }
 ],
 "metadata": {
  "kernelspec": {
   "display_name": "denememfem",
   "language": "python",
   "name": "python3"
  },
  "language_info": {
   "codemirror_mode": {
    "name": "ipython",
    "version": 3
   },
   "file_extension": ".py",
   "mimetype": "text/x-python",
   "name": "python",
   "nbconvert_exporter": "python",
   "pygments_lexer": "ipython3",
   "version": "3.11.11"
  }
 },
 "nbformat": 4,
 "nbformat_minor": 2
}
