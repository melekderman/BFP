{
 "cells": [
  {
   "cell_type": "code",
   "execution_count": 107,
   "metadata": {},
   "outputs": [],
   "source": [
    "#!pip install --quiet glvis\n",
    "import numpy as np\n",
    "import matplotlib.pyplot as plt\n",
    "from  bfp import *\n",
    "import mfem.ser as mfem\n",
    "#from mfem.common.arg_parser import ArgParser\n",
    "from glvis import glvis, GlvisData\n",
    "import seaborn as sns"
   ]
  },
  {
   "cell_type": "code",
   "execution_count": 108,
   "metadata": {},
   "outputs": [],
   "source": [
    "class EDependentCoefficient(mfem.PyCoefficient):\n",
    "    def __init__(self, xs_t_data, E_start, E_end):\n",
    "        super(EDependentCoefficient, self).__init__()\n",
    "        self.E_start = E_start\n",
    "        self.E_end = E_end\n",
    "        if isinstance(xs_t_data, (int, float)):\n",
    "            self.constant = True\n",
    "            self.constant_value = float(xs_t_data)\n",
    "        else:\n",
    "            self.constant = False\n",
    "            self.xs_t_data = xs_t_data\n",
    "            self.n_groups = len(xs_t_data)\n",
    "            self.E_bins = np.linspace(E_start, E_end, self.n_groups + 1)\n",
    "\n",
    "    def EvalValue(self, x):\n",
    "        if self.constant:\n",
    "            return self.constant_value\n",
    "        E = x[1]\n",
    "        for i in range(self.n_groups - 1):\n",
    "            if np.isclose(E, self.E_bins[i+1]):\n",
    "                return float(self.xs_t_data[i+1])\n",
    "            if E <= self.E_bins[i] and E > self.E_bins[i+1]:\n",
    "                return float(self.xs_t_data[i])\n",
    "        return float(self.xs_t_data[-1])\n",
    "\n",
    "class XDependentCoefficient(mfem.PyCoefficient):\n",
    "\n",
    "    def __init__(self, xs_t_data, x_start, x_end):\n",
    "        super(XDependentCoefficient, self).__init__()\n",
    "        self.x_start = x_start\n",
    "        self.x_end = x_end\n",
    "        if isinstance(xs_t_data, (int, float)):\n",
    "            self.constant = True\n",
    "            self.constant_value = float(xs_t_data)\n",
    "        else:\n",
    "            self.constant = False\n",
    "            self.xs_t_data = xs_t_data\n",
    "            self.n_groups = len(xs_t_data)\n",
    "            self.x_bins = np.linspace(x_start, x_end, self.n_groups + 1)\n",
    "\n",
    "    def EvalValue(self, x):\n",
    "        if self.constant:\n",
    "            return self.constant_value\n",
    "\n",
    "        x_val = x[0]\n",
    "        for i in range(self.n_groups - 1):\n",
    "            if np.isclose(x_val, self.x_bins[i+1]):\n",
    "                return float(self.xs_t_data[i+1])\n",
    "            if self.x_bins[i] <= x_val < self.x_bins[i+1]:\n",
    "                return float(self.xs_t_data[i])\n",
    "        return float(self.xs_t_data[-1])\n",
    "\n",
    "class MyVectorCoefficient(mfem.VectorConstantCoefficient):\n",
    "    def __init__(self, mu_coeff, S_coeff):\n",
    "        super(MyVectorCoefficient, self).__init__(2)\n",
    "        self.mu_coeff = mu_coeff \n",
    "        self.S_coeff = S_coeff\n",
    "\n",
    "    def EvalValue(self, x):\n",
    "        mu_val = self.mu_coeff.EvalValue(x) \n",
    "        S_val = self.S_coeff.EvalValue(x) \n",
    "        return [mu_val, S_val]\n",
    "    \n",
    "class InflowCoefficientSN(mfem.PyCoefficient):\n",
    "    def __init__(self, in_flux, mu):\n",
    "        super(InflowCoefficientSN, self).__init__()\n",
    "        self.in_flux = in_flux\n",
    "        self.mu = mu\n",
    "\n",
    "    def EvalValue(self, x):\n",
    "        if self.mu > 0:\n",
    "            return self.in_flux * 2\n",
    "        else:\n",
    "            return 0"
   ]
  },
  {
   "cell_type": "code",
   "execution_count": 109,
   "metadata": {},
   "outputs": [],
   "source": [
    "def test_EDependentCoefficient():\n",
    "    xs_t_data = [0,1,2,3,4]\n",
    "    coeff = EDependentCoefficient(xs_t_data, 1, 0.01)\n",
    "    print(coeff.EvalValue([0.0, 1]))\n",
    "    print(coeff.EvalValue([0.0, 0.802]))\n",
    "    print(coeff.EvalValue([0.0, 0.604]))\n",
    "    print(coeff.EvalValue([0.0, 0.406]))\n",
    "    print(coeff.EvalValue([0.0, 0.208]))\n",
    "    print(coeff.EvalValue([0.0, 0.01]))\n",
    "\n",
    "def test_EDependentCoefficient_Constant():\n",
    "    coeff = EDependentCoefficient(40, 1, 0.01)\n",
    "    print(coeff.EvalValue([0.0, 1]))\n",
    "    print(coeff.EvalValue([0.0, 0.802]))\n",
    "    print(coeff.EvalValue([0.0, 0.604]))\n",
    "    print(coeff.EvalValue([0.0, 0.406]))\n",
    "    print(coeff.EvalValue([0.0, 0.208]))\n",
    "    print(coeff.EvalValue([0.0, 0.01]))\n",
    "\n",
    "#print(\"Test for E dependent Coefficient\")\n",
    "#test_EDependentCoefficient()\n",
    "#print(\"Test for E dependent Constant Coefficient\")\n",
    "#test_EDependentCoefficient_Constant()\n",
    "\n",
    "\n",
    "def test_XDependentCoefficientt():\n",
    "    xs_t_data = [0,1,2,3,4]\n",
    "    coeff = XDependentCoefficient(xs_t_data, 0, 1)\n",
    "    print(coeff.EvalValue([0.0, 0.00]))\n",
    "    print(coeff.EvalValue([0.2, 0.00]))\n",
    "    print(coeff.EvalValue([0.4, 0.00]))\n",
    "    print(coeff.EvalValue([0.6, 0.00]))\n",
    "    print(coeff.EvalValue([0.8, 0.00]))\n",
    "    print(coeff.EvalValue([1.0, 0.00]))\n",
    "\n",
    "def test_XDependentCoefficient_Constant():\n",
    "    coeff = XDependentCoefficient(80, 0.0, 1.0)\n",
    "    print(coeff.EvalValue([0.0, 0.00]))\n",
    "    print(coeff.EvalValue([0.2, 0.00]))\n",
    "    print(coeff.EvalValue([0.4, 0.00]))\n",
    "    print(coeff.EvalValue([0.6, 0.00]))\n",
    "    print(coeff.EvalValue([0.8, 0.00]))\n",
    "    print(coeff.EvalValue([1.0, 0.00]))\n",
    "\n",
    "#print(\"Test for X dependent Coefficient\")\n",
    "#test_XDependentCoefficientt()\n",
    "#print(\"Test for X dependent Constant Coefficient\")\n",
    "#test_XDependentCoefficient_Constant()\n",
    "\n",
    "def test_MyVectorCoefficient():\n",
    "    mu_data = [5,6,7,8,9]\n",
    "    mu = XDependentCoefficient(mu_data, 0.0, 1.0)\n",
    "    S_data = [0,1,2,3,4]\n",
    "    S = EDependentCoefficient(S_data, 1.0, 0.01)\n",
    "    coeff = MyVectorCoefficient(mu, S)\n",
    "    print(coeff.EvalValue([0.0, 0.802]))\n",
    "    print(coeff.EvalValue([0.2, 0.604]))\n",
    "    print(coeff.EvalValue([0.4, 0.406]))\n",
    "    print(coeff.EvalValue([0.6, 0.208]))\n",
    "    print(coeff.EvalValue([0.8, 0.01]))\n",
    "\n",
    "#print(\"Test for Vector Coefficient\")\n",
    "#test_MyVectorCoefficient()\n"
   ]
  },
  {
   "cell_type": "code",
   "execution_count": 110,
   "metadata": {},
   "outputs": [
    {
     "name": "stdout",
     "output_type": "stream",
     "text": [
      "File '/Users/melekderman/github/BFP/melek/mesh/usr/2x4_2D.mesh' already exists.\n",
      "Number of unknowns: 32\n",
      "  Solving for mu = -0.5773502691896257\n",
      "  Solving for mu = 0.5773502691896257\n"
     ]
    }
   ],
   "source": [
    "nx = 2\n",
    "nE = 4\n",
    "x_start = 0.0\n",
    "x_end = 0.3\n",
    "E_start = 1\n",
    "E_end = 0.01\n",
    "N_ang = 2\n",
    "order = 1\n",
    "\n",
    "mesh = create_2D_mesh(nx, nE, x_start, x_end, E_start, E_end)\n",
    "dim = mesh.Dimension()\n",
    "\n",
    "# btype = 0-GaussLegendre, 1 - GaussLobatto\n",
    "fec = mfem.DG_FECollection(order, dim, btype=1)\n",
    "fes = mfem.FiniteElementSpace(mesh, fec)\n",
    "Size = fes.GetVSize()\n",
    "print(\"Number of unknowns:\", Size)\n",
    "\n",
    "mu_vals, w_vals = gauss_legendre_dirs(N_ang)\n",
    "\n",
    "S_const = 8.0\n",
    "xs_t_const = 10.0\n",
    "#xs_s_const = 1.0\n",
    "S_arr = np.ones(nE) * S_const\n",
    "E_arr = np.linspace(E_start, E_end, nE+1)\n",
    "\n",
    "S_coeff = EDependentCoefficient(S_const, E_start, E_end)\n",
    "xs_t_coeff = EDependentCoefficient(xs_t_const, E_start, E_end)\n",
    "#xs_s_coeff = EDependentCoefficient(xs_s_const, E_start, E_end)\n",
    "dS_dE_arr = compute_S_derivative(E_arr, S_arr)\n",
    "dS_dE_coeff = EDependentCoefficient(dS_dE_arr, E_start, E_end)\n",
    "q_coeff = ConstantCoefficient(50)\n",
    "\n",
    "# Solution\n",
    "psi_mu_list = []\n",
    "\n",
    "for mu, w in zip(mu_vals, w_vals):\n",
    "    print(\"  Solving for mu =\", mu)\n",
    "    mu_coeff = XDependentCoefficient(mu, x_start, x_end)\n",
    "    inflow_coeff = InflowCoefficientSN(5, mu)\n",
    "    #marker = get_marker_for_mu(mesh, mu)\n",
    "    v_coeff = MyVectorCoefficient(mu_coeff, S_coeff)\n",
    "\n",
    "    # Assemble Bilinear and Linear Forms\n",
    "    a = mfem.BilinearForm(fes)\n",
    "    a.AddDomainIntegrator(mfem.ConvectionIntegrator(v_coeff, 1.0))\n",
    "    a.AddDomainIntegrator(mfem.MassIntegrator(xs_t_coeff))\n",
    "    a.AddDomainIntegrator(mfem.MassIntegrator(dS_dE_coeff))\n",
    "    a.AddInteriorFaceIntegrator(mfem.TransposeIntegrator(mfem.DGTraceIntegrator(v_coeff, 1.0, -0.5)))\n",
    "    a.AddBdrFaceIntegrator(mfem.TransposeIntegrator(mfem.DGTraceIntegrator(v_coeff, 1.0, -0.5)))\n",
    "    a.Assemble()\n",
    "    a.Finalize()\n",
    "    A = a.SpMat()\n",
    "\n",
    "    b = mfem.LinearForm(fes)\n",
    "    b.AddDomainIntegrator(mfem.DomainLFIntegrator(q_coeff))\n",
    "    b.AddBdrFaceIntegrator(mfem.BoundaryFlowIntegrator(inflow_coeff, v_coeff, 1.0))\n",
    "    b.Assemble()\n",
    "\n",
    "    psi = mfem.GridFunction(fes)\n",
    "    psi.Assign(1.0) \n",
    "    prec = mfem.GSSmoother(A)\n",
    "    solver = mfem.GMRESSolver()\n",
    "    solver.SetOperator(A)\n",
    "    solver.SetPreconditioner(prec)\n",
    "    solver.SetRelTol(1e-12)\n",
    "    solver.SetAbsTol(1e-12)\n",
    "    solver.SetMaxIter(500)\n",
    "    solver.SetKDim(30)\n",
    "    solver.SetPrintLevel(0)\n",
    "    solver.Mult(b, psi)\n",
    "\n",
    "\n",
    "\n",
    "    psi_mu_list.append((mu, w, psi))\n",
    "    \n",
    "    psi.Save(\"psi_mu_im_{:.3f}.gf\".format(mu))\n",
    "\n",
    "phi = mfem.GridFunction(fes)\n",
    "phi.Assign(0.0)\n",
    "for mu, w, psi in psi_mu_list:\n",
    "    phi.Add(w, psi)\n",
    "\n",
    "phi.Save(\"phi_im.gf\")\n",
    "    "
   ]
  },
  {
   "cell_type": "code",
   "execution_count": 111,
   "metadata": {},
   "outputs": [
    {
     "data": {
      "image/png": "[encoded data removed]",
      "text/plain": [
       "<Figure size 800x600 with 2 Axes>"
      ]
     },
     "metadata": {},
     "output_type": "display_data"
    }
   ],
   "source": [
    "HeatMap = HeatmapPlot(phi, mesh, fes)\n",
    "HeatMap.plot_heatmap(x_start, x_end, nx, E_start, E_end, nE)"
   ]
  },
  {
   "cell_type": "code",
   "execution_count": 112,
   "metadata": {},
   "outputs": [
    {
     "data": {
      "application/vnd.jupyter.widget-view+json": {
       "model_id": "a532a22665de41b28d54094cf88ab4f0",
       "version_major": 2,
       "version_minor": 1
      },
      "text/plain": [
       "_GlvisWidgetCore(data_str='solution\\nMFEM mesh v1.0\\n\\n#\\n# MFEM Geometry Types (see fem/geom.hpp):\\n#\\n# POIN…"
      ]
     },
     "execution_count": 112,
     "metadata": {},
     "output_type": "execute_result"
    }
   ],
   "source": [
    "glvis((mesh, phi), 900, 900)"
   ]
  },
  {
   "cell_type": "code",
   "execution_count": null,
   "metadata": {},
   "outputs": [],
   "source": []
  },
  {
   "cell_type": "code",
   "execution_count": null,
   "metadata": {},
   "outputs": [],
   "source": []
  },
  {
   "cell_type": "code",
   "execution_count": null,
   "metadata": {},
   "outputs": [],
   "source": []
  },
  {
   "cell_type": "code",
   "execution_count": 101,
   "metadata": {},
   "outputs": [
    {
     "name": "stdout",
     "output_type": "stream",
     "text": [
      "mu =  -0.5773502691896257\n",
      "w =  1.0\n",
      "psi =  [3.65874063 3.01946006 3.65874063 3.01946006 2.14982385 0.79135262\n",
      " 2.14982385 0.79135262 2.14982385 0.79135262 2.14982385 0.79135262\n",
      " 3.65874063 3.01946006 3.65874063 3.01946006 3.65874063 3.01946006\n",
      " 3.65874063 3.01946006 2.14982385 0.79135262 2.14982385 0.79135262\n",
      " 2.14982385 0.79135262 2.14982385 0.79135262 3.65874063 3.01946006\n",
      " 3.65874063 3.01946006]\n",
      "mu =  0.5773502691896257\n",
      "w =  1.0\n",
      "psi =  [5. 5. 5. 5. 5. 5. 5. 5. 5. 5. 5. 5. 5. 5. 5. 5. 5. 5. 5. 5. 5. 5. 5. 5.\n",
      " 5. 5. 5. 5. 5. 5. 5. 5.]\n"
     ]
    }
   ],
   "source": [
    "for i in range(len(psi_mu_list)):\n",
    "    mu, w, psi = psi_mu_list[i]\n",
    "    psi_array = np.array(psi.GetDataArray())\n",
    "    print(\"mu = \", mu)\n",
    "    print(\"w = \", w)\n",
    "    print(\"psi = \", psi_array)"
   ]
  },
  {
   "cell_type": "code",
   "execution_count": null,
   "metadata": {},
   "outputs": [],
   "source": []
  },
  {
   "cell_type": "code",
   "execution_count": null,
   "metadata": {},
   "outputs": [],
   "source": []
  },
  {
   "cell_type": "code",
   "execution_count": null,
   "metadata": {},
   "outputs": [],
   "source": []
  },
  {
   "cell_type": "code",
   "execution_count": null,
   "metadata": {},
   "outputs": [],
   "source": []
  },
  {
   "cell_type": "code",
   "execution_count": null,
   "metadata": {},
   "outputs": [],
   "source": []
  }
 ],
 "metadata": {
  "kernelspec": {
   "display_name": "denememfem",
   "language": "python",
   "name": "python3"
  },
  "language_info": {
   "codemirror_mode": {
    "name": "ipython",
    "version": 3
   },
   "file_extension": ".py",
   "mimetype": "text/x-python",
   "name": "python",
   "nbconvert_exporter": "python",
   "pygments_lexer": "ipython3",
   "version": "3.11.11"
  }
 },
 "nbformat": 4,
 "nbformat_minor": 2
}
