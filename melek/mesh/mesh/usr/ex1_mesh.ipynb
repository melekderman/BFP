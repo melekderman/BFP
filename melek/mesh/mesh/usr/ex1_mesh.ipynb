{
 "cells": [
  {
   "cell_type": "code",
   "execution_count": 1,
   "metadata": {},
   "outputs": [],
   "source": [
    "from bfp import *\n",
    "from glvis import glvis"
   ]
  },
  {
   "cell_type": "code",
   "execution_count": 2,
   "metadata": {},
   "outputs": [
    {
     "name": "stdout",
     "output_type": "stream",
     "text": [
      "File '/Users/melekderman/github/BFP/examples/mesh/usr/20x50_2D.mesh' already exists.\n",
      "Total number of vertices: 1071\n",
      "Total number of elements: 1000\n",
      "Number of vertices to display: 10\n",
      "Sample vertex coordinates:\n",
      "Vertex 0: [0. 1.]\n",
      "Vertex 1: [0.015 1.   ]\n",
      "Vertex 2: [0.03 1.  ]\n",
      "Vertex 3: [0.045 1.   ]\n",
      "Vertex 4: [0.06 1.  ]\n",
      "Vertex 5: [0.075 1.   ]\n",
      "Vertex 6: [0.09 1.  ]\n",
      "Vertex 7: [0.105 1.   ]\n",
      "Vertex 8: [0.12 1.  ]\n",
      "Vertex 9: [0.135 1.   ]\n",
      "...\n",
      "Launching glvis visualization...\n"
     ]
    }
   ],
   "source": [
    "mesh2D = create_2D_mesh(20, 50, 0, 0.3, 1, 0.01)\n",
    "mesh_report(mesh2D, width=600, height=600)"
   ]
  },
  {
   "cell_type": "code",
   "execution_count": null,
   "metadata": {},
   "outputs": [],
   "source": []
  },
  {
   "cell_type": "code",
   "execution_count": 3,
   "metadata": {},
   "outputs": [
    {
     "data": {
      "application/vnd.jupyter.widget-view+json": {
       "model_id": "dc25fe052db4465c89275496217dfe60",
       "version_major": 2,
       "version_minor": 1
      },
      "text/plain": [
       "_GlvisWidgetCore(data_str='mesh\\nMFEM mesh v1.0\\n\\n#\\n# MFEM Geometry Types (see fem/geom.hpp):\\n#\\n# POINT   …"
      ]
     },
     "execution_count": 3,
     "metadata": {},
     "output_type": "execute_result"
    }
   ],
   "source": [
    "# Refine a mesh uniformly:\n",
    "\n",
    "#mesh2D.UniformRefinement()\n",
    "verts2D = mesh2D.GetVertexArray()\n",
    "\n",
    "glvis(mesh2D, 900, 900)"
   ]
  },
  {
   "cell_type": "code",
   "execution_count": 6,
   "metadata": {},
   "outputs": [
    {
     "name": "stdout",
     "output_type": "stream",
     "text": [
      "File '/Users/melekderman/github/BFP/examples/mesh/usr/10x10_3D.mesh' already exists.\n"
     ]
    },
    {
     "data": {
      "application/vnd.jupyter.widget-view+json": {
       "model_id": "0065dd6fc6eb40148d21b386237709a2",
       "version_major": 2,
       "version_minor": 1
      },
      "text/plain": [
       "_GlvisWidgetCore(data_str='mesh\\nMFEM mesh v1.0\\n\\n#\\n# MFEM Geometry Types (see fem/geom.hpp):\\n#\\n# POINT   …"
      ]
     },
     "execution_count": 6,
     "metadata": {},
     "output_type": "execute_result"
    }
   ],
   "source": [
    "mesh3D = create_3D_mesh(10,10,10,0,0.3,0,0.3,1,0.7)\n",
    "\n",
    "mesh3D.UniformRefinement()\n",
    "verts3D = mesh3D.GetVertexArray()\n",
    "\n",
    "glvis(mesh3D, 900,900)"
   ]
  },
  {
   "cell_type": "code",
   "execution_count": null,
   "metadata": {},
   "outputs": [],
   "source": []
  },
  {
   "cell_type": "code",
   "execution_count": null,
   "metadata": {},
   "outputs": [],
   "source": []
  },
  {
   "cell_type": "code",
   "execution_count": null,
   "metadata": {},
   "outputs": [],
   "source": []
  }
 ],
 "metadata": {
  "kernelspec": {
   "display_name": "denememfem",
   "language": "python",
   "name": "python3"
  },
  "language_info": {
   "codemirror_mode": {
    "name": "ipython",
    "version": 3
   },
   "file_extension": ".py",
   "mimetype": "text/x-python",
   "name": "python",
   "nbconvert_exporter": "python",
   "pygments_lexer": "ipython3",
   "version": "3.11.11"
  }
 },
 "nbformat": 4,
 "nbformat_minor": 2
}
