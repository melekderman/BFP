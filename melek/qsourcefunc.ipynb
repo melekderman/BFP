{
 "cells": [
  {
   "cell_type": "code",
   "execution_count": 1,
   "metadata": {},
   "outputs": [],
   "source": [
    "import mfem.ser as mfem\n",
    "import numpy as np"
   ]
  },
  {
   "cell_type": "code",
   "execution_count": null,
   "metadata": {},
   "outputs": [
    {
     "ename": "IndentationError",
     "evalue": "expected an indented block after class definition on line 1 (733099568.py, line 3)",
     "output_type": "error",
     "traceback": [
      "\u001b[0;36m  Cell \u001b[0;32mIn[2], line 3\u001b[0;36m\u001b[0m\n\u001b[0;31m    def QFunction(x, pn):\u001b[0m\n\u001b[0m    ^\u001b[0m\n\u001b[0;31mIndentationError\u001b[0m\u001b[0;31m:\u001b[0m expected an indented block after class definition on line 1\n"
     ]
    }
   ],
   "source": [
    "class QFunction():\n",
    "    def __init__(self, p=3, a=1.0, b=1.0, c=None, d=None, mu=None, S=None):\n",
    "        self.p = p\n",
    "        self.a = a\n",
    "        self.b = b\n",
    "        self.c = c\n",
    "        self.d = d\n",
    "        self.mu = mu\n",
    "        self.S = S\n",
    "    def Q_Prob1(self, x, u, grad_u):\n",
    "        self.f(x, u, grad_u)"
   ]
  },
  {
   "cell_type": "code",
   "execution_count": null,
   "metadata": {},
   "outputs": [],
   "source": []
  },
  {
   "cell_type": "code",
   "execution_count": 7,
   "metadata": {},
   "outputs": [],
   "source": [
    "import mfem.ser as mfem\n",
    "import numpy as np\n",
    "from math import sin, cos\n",
    "\n",
    "class QCoefficient(mfem.PyCoefficient):\n",
    "    def __init__(self, pn, a=None, b=None, c=None, d=None, xs_t_const=None, mu=None, S=None):\n",
    "        \"\"\"\n",
    "        pn: Problem numarası (3, 4 veya 5) hangi fonksiyonun kullanılacağını belirler.\n",
    "        a, b, c, d, mu, S: İlgili parametreler. Her problemde tümü bulunmayabilir.\n",
    "            - pn=3 için: a, b, ve mu gereklidir.\n",
    "            - pn=4 için: a, b, ve S gereklidir.\n",
    "            - pn=5 için: a, b, c, d, mu, ve S gereklidir.\n",
    "        \"\"\"\n",
    "        super().__init__()\n",
    "        self.pn = pn\n",
    "        self.a = a\n",
    "        self.b = b\n",
    "        self.c = c\n",
    "        self.d = d\n",
    "        self.xs_t_const = xs_t_const\n",
    "        self.mu = mu\n",
    "        self.S = S\n",
    "\n",
    "    def Eval(self, x):\n",
    "        \"\"\"\n",
    "        MFEM, her bir integration noktasında bu metodu çağırır.\n",
    "        x: Noktanın koordinatlarını içeren liste veya dizi.\n",
    "        \"\"\"\n",
    "        if self.pn == 3:\n",
    "            return self.coeff_pn3(x)\n",
    "        elif self.pn == 4:\n",
    "            return self.coeff_pn4(x)\n",
    "        elif self.pn == 5:\n",
    "            return self.coeff_pn5(x)\n",
    "        else:\n",
    "            raise ValueError(\"Unsupported pn value: {}\".format(self.pn))\n",
    "\n",
    "    def coeff_pn3(self, x):\n",
    "        # pn = 3: a, b ve mu'ya bağlı fonksiyon örneği.\n",
    "        if self.a is None or self.b is None or self.mu is None:\n",
    "            raise ValueError(\"For pn=3, parameters a, b, and mu must be provided.\")\n",
    "        # Örnek fonksiyon: a * x[0] + b * x[0]^2 + mu\n",
    "        return self.mu * self.b + self.xs_t_const (self.a + self.b * x[0])\n",
    "\n",
    "    def coeff_pn4(self, x):\n",
    "        # pn = 4: a, b ve S'ye bağlı fonksiyon örneği.\n",
    "        if self.a is None or self.b is None or self.S is None:\n",
    "            raise ValueError(\"For pn=4, parameters a, b, and S must be provided.\")\n",
    "        # Örnek fonksiyon: a*sin(x[0]) + b*cos(x[0]) + S\n",
    "        return self.xs_t_const (self.a + self.b * x[1]) + self.S * self.b\n",
    "\n",
    "    def coeff_pn5(self, x):\n",
    "        # pn = 5: a, b, c, d, mu, S'ye bağlı fonksiyon örneği.\n",
    "        if (self.a is None or self.b is None or self.c is None or \n",
    "            self.d is None or self.mu is None or self.S is None):\n",
    "            raise ValueError(\"For pn=5, parameters a, b, c, d, mu, and S must be provided.\")\n",
    "        # Örnek fonksiyon: 2D için\n",
    "        # a*x[0] + b*x[1] + c*x[0]*x[1] + d*sin(x[0]) + mu*cos(x[1]) + S\n",
    "        if len(x) > 1:\n",
    "            return (self.a * x[0] + self.b * x[1] +\n",
    "                    self.c * x[0] * x[1] +\n",
    "                    self.d * sin(x[0]) +\n",
    "                    self.mu * cos(x[1]) +\n",
    "                    self.S)\n",
    "        else:\n",
    "            # 1D durumda alternatif bir formül\n",
    "            return self.mu * self.b * x[1] + self.xs_t_const (self.a + self.b * x[0] * x[1]) + self.S * self.b * x[0]\n",
    "\n",
    "# Kullanım örneği:\n",
    "\n",
    "# Örneğin pn=3 için, a, b ve mu parametreleri gerekli:\n",
    "pn_value = 3\n",
    "a_val = 1.0\n",
    "b_val = 0.5\n",
    "mu_val = 0.25\n",
    "coeff3 = QCoefficient(pn_value, a=a_val, b=b_val, mu=mu_val)\n",
    "# MFEM uygulamanızda bu coefficient'ü kullanabilirsiniz:\n",
    "# grid_func.ProjectCoefficient(coeff3)\n",
    "\n",
    "# pn=4 için: a, b ve S parametreleri gerekli:\n",
    "pn_value = 4\n",
    "a_val = 2.0\n",
    "b_val = 1.0\n",
    "S_val = 0.1\n",
    "coeff4 = QCoefficient(pn_value, a=a_val, b=b_val, S=S_val)\n",
    "\n",
    "# pn=5 için: a, b, c, d, mu ve S parametreleri gerekli:\n",
    "pn_value = 5\n",
    "a_val = 1.0\n",
    "b_val = 2.0\n",
    "c_val = 0.5\n",
    "d_val = 0.25\n",
    "mu_val = 0.3\n",
    "S_val = 0.05\n",
    "coeff5 = QCoefficient(pn_value, a=a_val, b=b_val, c=c_val, d=d_val, mu=mu_val, S=S_val)\n"
   ]
  },
  {
   "cell_type": "code",
   "execution_count": null,
   "metadata": {},
   "outputs": [],
   "source": [
    "a = 1\n",
    "b = 2 \n",
    "mu = 3\n",
    "\n",
    "@mfem.jit.scalar()\n",
    "def my_coeff(x):\n",
    "    return a*x[0] + b*x[0]**2 + mu\n",
    "\n"
   ]
  },
  {
   "cell_type": "code",
   "execution_count": null,
   "metadata": {},
   "outputs": [],
   "source": []
  }
 ],
 "metadata": {
  "kernelspec": {
   "display_name": "denememfem",
   "language": "python",
   "name": "python3"
  },
  "language_info": {
   "codemirror_mode": {
    "name": "ipython",
    "version": 3
   },
   "file_extension": ".py",
   "mimetype": "text/x-python",
   "name": "python",
   "nbconvert_exporter": "python",
   "pygments_lexer": "ipython3",
   "version": "3.11.11"
  }
 },
 "nbformat": 4,
 "nbformat_minor": 2
}
