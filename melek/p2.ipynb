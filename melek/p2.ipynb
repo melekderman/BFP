{
 "cells": [
  {
   "cell_type": "code",
   "execution_count": 1,
   "metadata": {},
   "outputs": [],
   "source": [
    "#!pip install --quiet glvis\n",
    "import numpy as np\n",
    "import matplotlib.pyplot as plt\n",
    "from  bfp import *\n",
    "import mfem.ser as mfem\n",
    "#from mfem.common.arg_parser import ArgParser\n",
    "from glvis import glvis, GlvisData\n",
    "import seaborn as sns\n",
    "import pandas as pd\n",
    "import os"
   ]
  },
  {
   "cell_type": "code",
   "execution_count": 7,
   "metadata": {},
   "outputs": [
    {
     "name": "stdout",
     "output_type": "stream",
     "text": [
      "File '/Users/melekderman/github/BFP/melek/mesh/usr/10x10_2D.mesh' already exists.\n",
      "Number of unknowns: 1600\n",
      "Number of finite element unknowns: 1600\n",
      "  Solving for mu = -0.5773502691896257\n",
      "inflow: 10.0\n",
      "sigma_t: 5.0\n",
      "   Pass :  1   Iteration :   0  ||B r|| = 156.62\n",
      "   Pass :  1   Iteration :   1  ||B r|| = 109.808\n",
      "   Pass :  1   Iteration :   2  ||B r|| = 78.2367\n",
      "   Pass :  1   Iteration :   3  ||B r|| = 58.9902\n",
      "   Pass :  1   Iteration :   4  ||B r|| = 49.3477\n",
      "   Pass :  1   Iteration :   5  ||B r|| = 39.4615\n",
      "   Pass :  1   Iteration :   6  ||B r|| = 32.1731\n",
      "   Pass :  1   Iteration :   7  ||B r|| = 25.3825\n",
      "   Pass :  1   Iteration :   8  ||B r|| = 19.1648\n",
      "   Pass :  1   Iteration :   9  ||B r|| = 14.3244\n",
      "   Pass :  1   Iteration :  10  ||B r|| = 10.7171\n",
      "   Pass :  1   Iteration :  11  ||B r|| = 8.37513\n",
      "   Pass :  1   Iteration :  12  ||B r|| = 6.08642\n",
      "   Pass :  1   Iteration :  13  ||B r|| = 4.4253\n",
      "   Pass :  1   Iteration :  14  ||B r|| = 3.216\n",
      "   Pass :  1   Iteration :  15  ||B r|| = 2.41266\n",
      "   Pass :  1   Iteration :  16  ||B r|| = 1.70824\n",
      "   Pass :  1   Iteration :  17  ||B r|| = 0.934429\n",
      "   Pass :  1   Iteration :  18  ||B r|| = 0.579369\n",
      "   Pass :  1   Iteration :  19  ||B r|| = 0.195353\n",
      "   Pass :  1   Iteration :  20  ||B r|| = 0.0770013\n",
      "   Pass :  1   Iteration :  21  ||B r|| = 0.000549091\n",
      "   Pass :  1   Iteration :  22  ||B r|| = 2.65197e-05\n",
      "   Pass :  1   Iteration :  23  ||B r|| = 1.62498e-05\n",
      "   Pass :  1   Iteration :  24  ||B r|| = 4.7475e-06\n",
      "   Pass :  1   Iteration :  25  ||B r|| = 4.18212e-07\n",
      "   Pass :  1   Iteration :  26  ||B r|| = 4.53909e-08\n",
      "   Pass :  1   Iteration :  27  ||B r|| = 1.79937e-08\n",
      "   Pass :  1   Iteration :  28  ||B r|| = 3.85187e-09\n",
      "   Pass :  1   Iteration :  29  ||B r|| = 9.3203e-10\n",
      "   Pass :  1   Iteration :  30  ||B r|| = 3.64463e-10\n",
      "Restarting...\n",
      "   Pass :  2   Iteration :  31  ||B r|| = 3.33948e-10\n",
      "   Pass :  2   Iteration :  32  ||B r|| = 3.03156e-10\n",
      "   Pass :  2   Iteration :  33  ||B r|| = 2.63686e-10\n",
      "   Pass :  2   Iteration :  34  ||B r|| = 2.13036e-10\n",
      "   Pass :  2   Iteration :  35  ||B r|| = 1.5935e-10\n",
      "   Pass :  2   Iteration :  36  ||B r|| = 1.1379e-10\n"
     ]
    },
    {
     "data": {
      "application/vnd.jupyter.widget-view+json": {
       "model_id": "0cde000bb4834d279255840c836629d7",
       "version_major": 2,
       "version_minor": 1
      },
      "text/plain": [
       "_GlvisWidgetCore(data_str='solution\\nMFEM mesh v1.0\\n\\n#\\n# MFEM Geometry Types (see fem/geom.hpp):\\n#\\n# POIN…"
      ]
     },
     "metadata": {},
     "output_type": "display_data"
    },
    {
     "name": "stdout",
     "output_type": "stream",
     "text": [
      "  Solving for mu = 0.5773502691896257\n",
      "inflow: 10.0\n",
      "sigma_t: 5.0\n",
      "   Pass :  1   Iteration :   0  ||B r|| = 123.585\n",
      "   Pass :  1   Iteration :   1  ||B r|| = 92.7559\n",
      "   Pass :  1   Iteration :   2  ||B r|| = 68.2242\n",
      "   Pass :  1   Iteration :   3  ||B r|| = 52.7934\n",
      "   Pass :  1   Iteration :   4  ||B r|| = 42.6317\n",
      "   Pass :  1   Iteration :   5  ||B r|| = 33.2858\n",
      "   Pass :  1   Iteration :   6  ||B r|| = 25.5342\n",
      "   Pass :  1   Iteration :   7  ||B r|| = 18.8633\n",
      "   Pass :  1   Iteration :   8  ||B r|| = 13.9891\n",
      "   Pass :  1   Iteration :   9  ||B r|| = 10.5387\n",
      "   Pass :  1   Iteration :  10  ||B r|| = 7.88168\n",
      "   Pass :  1   Iteration :  11  ||B r|| = 5.82085\n",
      "   Pass :  1   Iteration :  12  ||B r|| = 4.10868\n",
      "   Pass :  1   Iteration :  13  ||B r|| = 3.10681\n",
      "   Pass :  1   Iteration :  14  ||B r|| = 2.25639\n",
      "   Pass :  1   Iteration :  15  ||B r|| = 1.66172\n",
      "   Pass :  1   Iteration :  16  ||B r|| = 0.891886\n",
      "   Pass :  1   Iteration :  17  ||B r|| = 0.561108\n",
      "   Pass :  1   Iteration :  18  ||B r|| = 0.26218\n",
      "   Pass :  1   Iteration :  19  ||B r|| = 0.116422\n",
      "   Pass :  1   Iteration :  20  ||B r|| = 0.000635182\n",
      "   Pass :  1   Iteration :  21  ||B r|| = 6.0709e-05\n",
      "   Pass :  1   Iteration :  22  ||B r|| = 3.44312e-05\n",
      "   Pass :  1   Iteration :  23  ||B r|| = 2.54482e-06\n",
      "   Pass :  1   Iteration :  24  ||B r|| = 3.92805e-07\n",
      "   Pass :  1   Iteration :  25  ||B r|| = 1.86501e-07\n",
      "   Pass :  1   Iteration :  26  ||B r|| = 2.78019e-08\n",
      "   Pass :  1   Iteration :  27  ||B r|| = 1.15063e-08\n",
      "   Pass :  1   Iteration :  28  ||B r|| = 2.31087e-09\n",
      "   Pass :  1   Iteration :  29  ||B r|| = 3.76711e-10\n",
      "   Pass :  1   Iteration :  30  ||B r|| = 1.3469e-10\n",
      "Restarting...\n",
      "   Pass :  2   Iteration :  31  ||B r|| = 1.13528e-10\n"
     ]
    },
    {
     "data": {
      "application/vnd.jupyter.widget-view+json": {
       "model_id": "b39eaa6ecad14c48917909952d65a9f3",
       "version_major": 2,
       "version_minor": 1
      },
      "text/plain": [
       "_GlvisWidgetCore(data_str='solution\\nMFEM mesh v1.0\\n\\n#\\n# MFEM Geometry Types (see fem/geom.hpp):\\n#\\n# POIN…"
      ]
     },
     "metadata": {},
     "output_type": "display_data"
    }
   ],
   "source": [
    "nx = 10\n",
    "nE = 10\n",
    "x_start = 0.0\n",
    "x_end = 1.0\n",
    "E_start = 0.0\n",
    "E_end = 1.0\n",
    "N_ang = 2\n",
    "order = 1\n",
    "inflow = 10.0\n",
    "\n",
    "mesh = create_2D_mesh(nx, nE, x_start, x_end, E_start, E_end)\n",
    "#mesh = mfem.Mesh(nx, nE, \"QUADRILATERAL\", True, x_end, E_end)\n",
    "mesh.UniformRefinement()\n",
    "dim = mesh.Dimension()\n",
    "\n",
    "# btype = 0-GaussLegendre, 1 - GaussLobatto\n",
    "fec = mfem.DG_FECollection(order, dim, btype=0)\n",
    "fes = mfem.FiniteElementSpace(mesh, fec)\n",
    "Size = fes.GetVSize()\n",
    "print(\"Number of unknowns:\", Size)\n",
    "print('Number of finite element unknowns: ' + str(fes.GetVSize()))\n",
    "\n",
    "mu_vals, w_vals = gauss_legendre_dirs(N_ang)\n",
    "\n",
    "#ex17'den\n",
    "\n",
    "\n",
    "ess_tdof_list1 = mfem.intArray()\n",
    "dir_bdr1 = mfem.intArray(mesh.bdr_attributes.Max())\n",
    "dir_bdr1.Assign(0)\n",
    "dir_bdr1[3] = 1\n",
    "dir_bdr1[1] = 1\n",
    "\n",
    "ess_tdof_list2 = mfem.intArray()\n",
    "dir_bdr2 = mfem.intArray(mesh.bdr_attributes.Max())\n",
    "dir_bdr2.Assign(0)\n",
    "dir_bdr2[0] = 1\n",
    "dir_bdr2[2] = 1\n",
    "\n",
    "S_const = 0.0\n",
    "xs_t_const = 5.0\n",
    "#xs_s_const = 1.0\n",
    "S_arr = np.ones(nE) * S_const\n",
    "E_arr = np.linspace(E_start, E_end, nE+1)\n",
    "\n",
    "S_coeff = StoppingPowerCoefficientE(S_const, E_start, E_end)\n",
    "xs_t_coeff = TotalXSCoefficientE(xs_t_const, E_start, E_end)\n",
    "#xs_s_coeff = EDependentCoefficient(xs_s_const, E_start, E_end)\n",
    "q_coeff = QCoefficientE(0.0, E_start, E_end)\n",
    "\n",
    "a = 5\n",
    "b = 10\n",
    "'''\n",
    "class QCoefficient(mfem.PyCoefficient):\n",
    "    def __init__(self):\n",
    "        mfem.PyCoefficient.__init__(self)\n",
    "    def EvalValue(self, x):\n",
    "        return (2*10+5*(5+10*x[1]))\n",
    "q_coeff = QCoefficient()\n",
    "'''\n",
    "# Solution\n",
    "\n",
    "alpha = 1.0\n",
    "beta = 0.5\n",
    "\n",
    "psi_mu = []\n",
    "psi_mu_list = []\n",
    "\n",
    "for mu, w in zip(mu_vals, w_vals):\n",
    "    print(\"  Solving for mu =\", mu)\n",
    "    mu_coeff = ConstantCoefficient(mu)\n",
    "    inflow_coeff = InflowCoefficient(inflow, mu)\n",
    "    #marker = get_marker_for_mu(mesh, mu)\n",
    "    #v_coeff = MyVectorCoefficient(mu_coeff, S_coeff)\n",
    "    v_coeff1 = mfem.VectorConstantCoefficient([mu, 0.0])\n",
    "    v_coeff2 = mfem.VectorConstantCoefficient([0.0, S_const])\n",
    "    print(f\"inflow: {inflow_coeff.EvalValue([inflow, mu])}\")\n",
    "    #print(f\"v_coeff: {v_coeff.EvalValue([mu, 0.8])}\")\n",
    "    print(f\"sigma_t: {xs_t_coeff.EvalValue([0.0, 0.604])}\")\n",
    "\n",
    "\n",
    "    a = mfem.BilinearForm(fes)\n",
    "    a.AddDomainIntegrator(mfem.ConvectionIntegrator(v_coeff1, 1.0))\n",
    "    a.AddDomainIntegrator(mfem.ConvectionIntegrator(v_coeff2, 1.0))\n",
    "    a.AddDomainIntegrator(mfem.MassIntegrator(xs_t_coeff))\n",
    "    a.AddInteriorFaceIntegrator(mfem.TransposeIntegrator(mfem.DGTraceIntegrator(v_coeff1, -alpha, beta)))\n",
    "    a.AddBdrFaceIntegrator(mfem.TransposeIntegrator(mfem.DGTraceIntegrator(v_coeff1, -alpha, beta)), dir_bdr1)\n",
    "    a.AddInteriorFaceIntegrator(mfem.TransposeIntegrator(mfem.DGTraceIntegrator(v_coeff2, -alpha, beta)))\n",
    "    a.AddBdrFaceIntegrator(mfem.TransposeIntegrator(mfem.DGTraceIntegrator(v_coeff2, -alpha, beta)), dir_bdr2)\n",
    "    a.Assemble()\n",
    "    a.Finalize()\n",
    "    A = a.SpMat()\n",
    "\n",
    "    b = mfem.LinearForm(fes)\n",
    "    b.AddDomainIntegrator(mfem.DomainLFIntegrator(q_coeff))\n",
    "    b.AddBdrFaceIntegrator(mfem.BoundaryFlowIntegrator(inflow_coeff, v_coeff1, -alpha, -beta), dir_bdr1)\n",
    "    b.AddBdrFaceIntegrator(mfem.BoundaryFlowIntegrator(inflow_coeff, v_coeff2, -alpha, -beta), dir_bdr2)\n",
    "    b.Assemble()\n",
    "    \n",
    "    psi = mfem.GridFunction(fes)\n",
    "    psi.Assign(1.0)\n",
    "\n",
    "    prec = mfem.GSSmoother(A)\n",
    "    solver = mfem.GMRESSolver()\n",
    "    solver.SetOperator(A)\n",
    "    solver.SetPreconditioner(prec)\n",
    "    solver.SetRelTol(1e-12)\n",
    "    solver.SetAbsTol(1e-12)\n",
    "    solver.SetMaxIter(1000)\n",
    "    solver.SetKDim(30)\n",
    "    solver.SetPrintLevel(1)\n",
    "    solver.Mult(b, psi)\n",
    "    \n",
    "\n",
    "    g = glvis((mesh, psi), 500,500, keys='ARjmcbp')\n",
    "    g.set_size(1000, 1000)\n",
    "    g.render()\n",
    "    \n",
    "    #X_arr = mfem.GridFunction(fes)\n",
    "    #X_arr.Assign(X)\n",
    "    psi.Save(\"psi_hs_mu_{:.3f}.gf\".format(mu))\n",
    "    psi_mu.append(psi.GetDataArray())\n",
    "    psi_mu_list.append((mu, w, psi))\n",
    "\n",
    "\n",
    "phi = mfem.GridFunction(fes)\n",
    "phi.Assign(0.0)\n",
    "for mu, w, X in psi_mu_list:\n",
    "    phi.Add(w, X)\n",
    "\n",
    "phi.Save(\"phi_dg.gf\")\n",
    "\n",
    "    "
   ]
  },
  {
   "cell_type": "code",
   "execution_count": null,
   "metadata": {},
   "outputs": [],
   "source": []
  },
  {
   "cell_type": "code",
   "execution_count": 8,
   "metadata": {},
   "outputs": [
    {
     "data": {
      "application/vnd.jupyter.widget-view+json": {
       "model_id": "4bd8bf93c07e41149e624182f44d2861",
       "version_major": 2,
       "version_minor": 1
      },
      "text/plain": [
       "_GlvisWidgetCore(data_str='solution\\nMFEM mesh v1.0\\n\\n#\\n# MFEM Geometry Types (see fem/geom.hpp):\\n#\\n# POIN…"
      ]
     },
     "metadata": {},
     "output_type": "display_data"
    }
   ],
   "source": [
    "g = glvis((mesh, phi), 500,500, keys='ARjmcbp')\n",
    "g.set_size(900, 900)\n",
    "g.render()"
   ]
  },
  {
   "cell_type": "code",
   "execution_count": 9,
   "metadata": {},
   "outputs": [
    {
     "data": {
      "application/vnd.jupyter.widget-view+json": {
       "model_id": "fedc2285e93a40da907d67e7ec4f2ed8",
       "version_major": 2,
       "version_minor": 1
      },
      "text/plain": [
       "_GlvisWidgetCore(data_str='solution\\nMFEM mesh v1.0\\n\\n#\\n# MFEM Geometry Types (see fem/geom.hpp):\\n#\\n# POIN…"
      ]
     },
     "metadata": {},
     "output_type": "display_data"
    }
   ],
   "source": [
    "g = glvis((mesh, phi), 500,500, keys='rljgac//0')\n",
    "g.set_size(900, 900)\n",
    "g.render()\n"
   ]
  },
  {
   "cell_type": "code",
   "execution_count": null,
   "metadata": {},
   "outputs": [],
   "source": []
  },
  {
   "cell_type": "code",
   "execution_count": 5,
   "metadata": {},
   "outputs": [
    {
     "name": "stdout",
     "output_type": "stream",
     "text": [
      "5\n",
      "15\n",
      "25\n",
      "35\n",
      "45\n",
      "55\n",
      "65\n",
      "75\n",
      "85\n",
      "95\n",
      "105\n"
     ]
    }
   ],
   "source": [
    "E = np.linspace(0,1,11)\n",
    "for i in range(E.shape[0]):\n",
    "    print(((5+10*i)))"
   ]
  },
  {
   "cell_type": "code",
   "execution_count": null,
   "metadata": {},
   "outputs": [],
   "source": []
  },
  {
   "cell_type": "code",
   "execution_count": null,
   "metadata": {},
   "outputs": [],
   "source": []
  },
  {
   "cell_type": "code",
   "execution_count": null,
   "metadata": {},
   "outputs": [],
   "source": []
  },
  {
   "cell_type": "code",
   "execution_count": null,
   "metadata": {},
   "outputs": [],
   "source": []
  },
  {
   "cell_type": "code",
   "execution_count": null,
   "metadata": {},
   "outputs": [],
   "source": []
  },
  {
   "cell_type": "code",
   "execution_count": null,
   "metadata": {},
   "outputs": [],
   "source": []
  }
 ],
 "metadata": {
  "kernelspec": {
   "display_name": "denememfem",
   "language": "python",
   "name": "python3"
  },
  "language_info": {
   "codemirror_mode": {
    "name": "ipython",
    "version": 3
   },
   "file_extension": ".py",
   "mimetype": "text/x-python",
   "name": "python",
   "nbconvert_exporter": "python",
   "pygments_lexer": "ipython3",
   "version": "3.11.11"
  }
 },
 "nbformat": 4,
 "nbformat_minor": 2
}
