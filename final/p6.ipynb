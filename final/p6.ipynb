{
 "cells": [
  {
   "cell_type": "code",
   "execution_count": 25,
   "metadata": {},
   "outputs": [],
   "source": [
    "from  bfp import *\n",
    "import mfem.ser as mfem\n",
    "from bfp import coeff, assembler, solver, mesh, vis"
   ]
  },
  {
   "cell_type": "code",
   "execution_count": null,
   "metadata": {},
   "outputs": [],
   "source": [
    "class QFuncCoefficient2(mfem.PyCoefficient):\n",
    "    def __init__(self, pn, a_val=None, b_val=None, c_val=None, d_val=None, e_val=None, f_val=None, xs_t_val=0, mu_val=0, S_val=0, q_const=0):\n",
    "        super(QFuncCoefficient2, self).__init__()\n",
    "        self.pn = pn\n",
    "        self.a_val = a_val\n",
    "        self.b_val = b_val\n",
    "        self.c_val = c_val\n",
    "        self.d_val = d_val\n",
    "        self.e_val = e_val\n",
    "        self.f_val = f_val\n",
    "        self.xs_t_val = xs_t_val\n",
    "        self.mu_val = float(mu_val)\n",
    "        self.S_val = S_val\n",
    "        self.q_const = q_const\n",
    "\n",
    "    def EvalValue(self, x):\n",
    "        if self.pn == 3:\n",
    "            return self.coeff_pn3(x)\n",
    "        elif self.pn == 4:\n",
    "            return self.coeff_pn4(x)\n",
    "        elif self.pn == 5:\n",
    "            return self.coeff_pn5(x)\n",
    "        elif self.pn == 6:\n",
    "            return self.coeff_pn6(x)\n",
    "        elif self.pn == 7:\n",
    "            return self.coeff_pn7(x)\n",
    "\n",
    "    def coeff_pn3(self, x):\n",
    "        return float(self.mu_val * self.b_val + self.xs_t_val * (self.a_val + self.b_val * x[0]))\n",
    "\n",
    "    def coeff_pn4(self, x):\n",
    "        return float(self.xs_t_val * (self.a_val + self.b_val * x[1]) + self.S_val * self.b_val)\n",
    "\n",
    "    def coeff_pn5(self, x):\n",
    "        sol =  self.mu_val * self.b_val * x[1] \\\n",
    "            + self.xs_t_val * (self.a_val + self.b_val * x[0] * x[1]) \\\n",
    "            + self.S_val * self.b_val * x[0]\n",
    "        return sol\n",
    "    \n",
    "    def coeff_pn6(self, x):\n",
    "        sol =  self.mu_val * ( 2 * self.b_val * x[0] + x[1])\n",
    "        + self.xs_t_val * (self.a_val + self.b_val * x[0] ** 2 \n",
    "                           + self.c_val * self.mu_val ** 2 + x[0] * x[1]) + self.S_val * x[0]\n",
    "        return sol\n",
    "    \n",
    "    def coeff_pn7(self, x):\n",
    "        sol = self.mu_val * (self.b_val + 2 * self.d_val * x[0] + self.f_val * self.mu_val) \n",
    "        + self.xs_t_val * (self.a_val + self.b_val * x[0] + self.c_val * self.mu_val + self.d_val * x[0] * 2 \n",
    "                       + self.e_val * self.mu_val ** 2 + self.f_val * x[0] * self.mu_val)\n",
    "        return sol\n",
    "    \n",
    "def Solve_Psi2(pn, mu_vals, w_vals, mesh, fes, xs_t_coeff, xs_t_const, S_const, \n",
    "              alpha, beta, dir_bdr1, dir_bdr2, a_val=None, b_val=None, c_val=None, d_val=None, e_val=None, \n",
    "              f_val=None, q_const=None, q_func=None, E_start=None, E_end=None, iter_=1000, tol=1e-12, p_level=1):\n",
    "\n",
    "    psi_mu = []\n",
    "    psi_mu_list = []\n",
    "\n",
    "    for mu, w in zip(mu_vals, w_vals):\n",
    "        a = a_val\n",
    "        b = b_val\n",
    "        c = c_val\n",
    "        d = d_val\n",
    "        e = e_val\n",
    "        f = f_val\n",
    "        inflow1 = inflow1_coeff\n",
    "        inflow2 = b + d * mu ** 2\n",
    "        print(\"  Solving for mu =\", mu)\n",
    "        inflow_coeff1 = coeff.InflowCoefficient(inflow1, mu)\n",
    "        inflow_coeff2 = coeff.InflowCoefficient(inflow2, mu)\n",
    "        v_coeff1 = coeff.VectorConstCoefficient([mu, 0.0])\n",
    "        v_coeff2 = coeff.VectorConstCoefficient([0.0, S_const])\n",
    "        if pn == 0:\n",
    "            q_coeff = QFuncCoefficient2(pn, q_func)\n",
    "        elif pn == 1 or pn == 2:\n",
    "            q_coeff = QCoefficientE(q_const, E_start, E_end)\n",
    "        elif pn == 3 or pn == 4 or pn == 5:\n",
    "            q_coeff = QFuncCoefficient2(pn, a_val=a, b_val=b, xs_t_val=xs_t_const,\n",
    "                                         mu_val=mu, S_val=S_const)\n",
    "        elif pn == 6:\n",
    "            q_coeff = QFuncCoefficient2(pn, a_val=a, b_val=b, c_val=c, d_val=d, e_val=e, f_val=f,\n",
    "                                         xs_t_val=xs_t_const, mu_val=mu, S_val=S_const)\n",
    "\n",
    "        a = mfem.BilinearForm(fes)\n",
    "        a.AddDomainIntegrator(mfem.ConvectionIntegrator(v_coeff1, 1.0))\n",
    "        a.AddDomainIntegrator(mfem.ConvectionIntegrator(v_coeff2, 1.0))\n",
    "        a.AddDomainIntegrator(mfem.MassIntegrator(xs_t_coeff))\n",
    "        a.AddInteriorFaceIntegrator(mfem.TransposeIntegrator(mfem.DGTraceIntegrator(v_coeff1, -alpha, beta)))\n",
    "        a.AddBdrFaceIntegrator(mfem.TransposeIntegrator(mfem.DGTraceIntegrator(v_coeff1, -alpha, beta)), dir_bdr1)\n",
    "        a.AddInteriorFaceIntegrator(mfem.TransposeIntegrator(mfem.DGTraceIntegrator(v_coeff2, -alpha, beta)))\n",
    "        a.AddBdrFaceIntegrator(mfem.TransposeIntegrator(mfem.DGTraceIntegrator(v_coeff2, -alpha, beta)), dir_bdr2)\n",
    "        a.Assemble()\n",
    "        a.Finalize()\n",
    "        A = a.SpMat()\n",
    "\n",
    "        b = mfem.LinearForm(fes)\n",
    "        b.AddDomainIntegrator(mfem.DomainLFIntegrator(q_coeff))\n",
    "        b.AddBdrFaceIntegrator(mfem.BoundaryFlowIntegrator(inflow_coeff1, v_coeff1, -alpha, -beta), dir_bdr1)\n",
    "        b.AddBdrFaceIntegrator(mfem.BoundaryFlowIntegrator(inflow_coeff, v_coeff2, -alpha, -beta), dir_bdr2)\n",
    "        b.Assemble()\n",
    "\n",
    "        psi = Initial_Guess(fes, 1.0)\n",
    "        GMRES_solver(A, b, psi, iter_, tol, p_level)\n",
    "        vis.GlVis_2D(mesh, psi)\n",
    "        psi.Save(\"psi_hs_mu_{:.3f}.gf\".format(mu))\n",
    "        psi_mu.append(psi.GetDataArray())\n",
    "        psi_mu_list.append((mu, w, psi))\n",
    "\n",
    "    return psi_mu_list\n",
    "\n"
   ]
  },
  {
   "cell_type": "code",
   "execution_count": 48,
   "metadata": {},
   "outputs": [
    {
     "name": "stdout",
     "output_type": "stream",
     "text": [
      "File '/Users/melekderman/github/BFP/final/mesh/usr/10x10_2D.mesh' already exists.\n",
      "  Solving for mu = -0.5773502691896257\n"
     ]
    },
    {
     "data": {
      "application/vnd.jupyter.widget-view+json": {
       "model_id": "38c3bc6986f5407ca0433a0ca6f70692",
       "version_major": 2,
       "version_minor": 1
      },
      "text/plain": [
       "_GlvisWidgetCore(data_str='solution\\nMFEM mesh v1.0\\n\\n#\\n# MFEM Geometry Types (see fem/geom.hpp):\\n#\\n# POIN…"
      ]
     },
     "metadata": {},
     "output_type": "display_data"
    },
    {
     "name": "stdout",
     "output_type": "stream",
     "text": [
      "  Solving for mu = 0.5773502691896257\n"
     ]
    },
    {
     "data": {
      "application/vnd.jupyter.widget-view+json": {
       "model_id": "3d7f6c35af344766a108d3bd9273b6e8",
       "version_major": 2,
       "version_minor": 1
      },
      "text/plain": [
       "_GlvisWidgetCore(data_str='solution\\nMFEM mesh v1.0\\n\\n#\\n# MFEM Geometry Types (see fem/geom.hpp):\\n#\\n# POIN…"
      ]
     },
     "metadata": {},
     "output_type": "display_data"
    }
   ],
   "source": [
    "# Set the problem parameters\n",
    "nx = 10\n",
    "nE = 10\n",
    "x_start = 0.0\n",
    "x_end = 1.0\n",
    "E_start = 0.0\n",
    "E_end = 1.0\n",
    "N_ang = 2\n",
    "order = 1\n",
    "alpha = 1.0\n",
    "beta = 0.5\n",
    "ref_level = 2\n",
    "\n",
    "# Problem 5: ψ = a+bxE\n",
    "a = 5\n",
    "b = 10\n",
    "c = 3\n",
    "d = 0\n",
    "e = 0\n",
    "f = 0\n",
    "pn=6\n",
    "S_const = 2.0\n",
    "xs_t_const = 5.0\n",
    "q_const = 0.0\n",
    "\n",
    "#Set solver parameters\n",
    "iter_ = 1000\n",
    "tol = 1e-12\n",
    "p_level = 0 #this is print level, 1 -> verbose, 0 -> silent\n",
    "\n",
    "# Create mesh and set uniform refinement\n",
    "mesh = create_2D_mesh(nx, nE, x_start, x_end, E_start, E_end)\n",
    "\n",
    "# Define finite element space\n",
    "fes = FESpace(order, mesh)\n",
    "\n",
    "\n",
    "# Define boundary attributes\n",
    "dir_bdr1, dir_bdr2 = BoundaryConditions(mesh, x_min=1, x_max=1, y_min=1, y_max=1)\n",
    "\n",
    "# Set coefficients and Sn quadratures\n",
    "S_coeff = StoppingPowerCoefficientE(S_const, E_start, E_end)\n",
    "xs_t_coeff = TotalXSCoefficientE(xs_t_const, E_start, E_end)\n",
    "mu_vals, w_vals = gauss_legendre_dirs(N_ang)\n",
    "\n",
    "# Solution\n",
    "psi_mu_pos_list = Solve_Psi2(pn, mu_vals, w_vals, mesh, fes, xs_t_coeff, xs_t_const, S_const, \n",
    "              alpha, beta, dir_bdr1, dir_bdr2, a_val=a, b_val=b, c_val=c, d_val=d, e_val=e, \n",
    "              f_val=f, q_const=q_const, E_start=E_start, E_end=E_end, iter_=1000, tol=1e-12, p_level=1)\n",
    "phi = Solve_Phi(fes, psi_mu_pos_list)"
   ]
  },
  {
   "cell_type": "code",
   "execution_count": null,
   "metadata": {},
   "outputs": [],
   "source": []
  },
  {
   "cell_type": "code",
   "execution_count": null,
   "metadata": {},
   "outputs": [],
   "source": []
  },
  {
   "cell_type": "code",
   "execution_count": null,
   "metadata": {},
   "outputs": [],
   "source": []
  },
  {
   "cell_type": "code",
   "execution_count": null,
   "metadata": {},
   "outputs": [],
   "source": []
  },
  {
   "cell_type": "code",
   "execution_count": null,
   "metadata": {},
   "outputs": [],
   "source": []
  },
  {
   "cell_type": "code",
   "execution_count": null,
   "metadata": {},
   "outputs": [],
   "source": []
  },
  {
   "cell_type": "code",
   "execution_count": null,
   "metadata": {},
   "outputs": [],
   "source": []
  },
  {
   "cell_type": "code",
   "execution_count": null,
   "metadata": {},
   "outputs": [],
   "source": []
  }
 ],
 "metadata": {
  "kernelspec": {
   "display_name": "denememfem",
   "language": "python",
   "name": "python3"
  },
  "language_info": {
   "codemirror_mode": {
    "name": "ipython",
    "version": 3
   },
   "file_extension": ".py",
   "mimetype": "text/x-python",
   "name": "python",
   "nbconvert_exporter": "python",
   "pygments_lexer": "ipython3",
   "version": "3.11.11"
  }
 },
 "nbformat": 4,
 "nbformat_minor": 2
}
